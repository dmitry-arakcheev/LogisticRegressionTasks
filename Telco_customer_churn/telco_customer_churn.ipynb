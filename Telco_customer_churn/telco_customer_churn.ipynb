{
 "cells": [
  {
   "cell_type": "markdown",
   "id": "2f11a922",
   "metadata": {},
   "source": [
    "# Прогнозирование оттока клиентов телекоммуникационной компании"
   ]
  },
  {
   "cell_type": "markdown",
   "id": "5bd04eb3",
   "metadata": {},
   "source": [
    "Использование машинного обучения для прогноза оттока клиентов телекоммуникационной компании.  \n",
    "Используемый набор данных - https://www.kaggle.com/datasets/blastchar/telco-customer-churn.  "
   ]
  },
  {
   "cell_type": "code",
   "execution_count": 1,
   "id": "88a5de7f",
   "metadata": {},
   "outputs": [],
   "source": [
    "# импорт библиотек\n",
    "\n",
    "import pandas as pd\n",
    "import numpy as np\n",
    "\n",
    "import matplotlib.pyplot as plt"
   ]
  },
  {
   "cell_type": "markdown",
   "id": "b85b2d95",
   "metadata": {},
   "source": [
    "## 1. Обзор датафрейма и предварительная обработка"
   ]
  },
  {
   "cell_type": "code",
   "execution_count": 2,
   "id": "936e3715",
   "metadata": {},
   "outputs": [],
   "source": [
    "# считывание данных и запись в датафрейм\n",
    "\n",
    "df = pd.read_csv('WA_Fn-UseC_-Telco-Customer-Churn.csv')"
   ]
  },
  {
   "cell_type": "code",
   "execution_count": 3,
   "id": "2710a2c1",
   "metadata": {},
   "outputs": [
    {
     "data": {
      "text/plain": [
       "7043"
      ]
     },
     "execution_count": 3,
     "metadata": {},
     "output_type": "execute_result"
    }
   ],
   "source": [
    "# количество строк\n",
    "\n",
    "len(df)"
   ]
  },
  {
   "cell_type": "code",
   "execution_count": 4,
   "id": "056c2681",
   "metadata": {},
   "outputs": [
    {
     "data": {
      "text/html": [
       "<div>\n",
       "<style scoped>\n",
       "    .dataframe tbody tr th:only-of-type {\n",
       "        vertical-align: middle;\n",
       "    }\n",
       "\n",
       "    .dataframe tbody tr th {\n",
       "        vertical-align: top;\n",
       "    }\n",
       "\n",
       "    .dataframe thead th {\n",
       "        text-align: right;\n",
       "    }\n",
       "</style>\n",
       "<table border=\"1\" class=\"dataframe\">\n",
       "  <thead>\n",
       "    <tr style=\"text-align: right;\">\n",
       "      <th></th>\n",
       "      <th>0</th>\n",
       "      <th>1</th>\n",
       "      <th>2</th>\n",
       "      <th>3</th>\n",
       "      <th>4</th>\n",
       "    </tr>\n",
       "  </thead>\n",
       "  <tbody>\n",
       "    <tr>\n",
       "      <th>customerID</th>\n",
       "      <td>7590-VHVEG</td>\n",
       "      <td>5575-GNVDE</td>\n",
       "      <td>3668-QPYBK</td>\n",
       "      <td>7795-CFOCW</td>\n",
       "      <td>9237-HQITU</td>\n",
       "    </tr>\n",
       "    <tr>\n",
       "      <th>gender</th>\n",
       "      <td>Female</td>\n",
       "      <td>Male</td>\n",
       "      <td>Male</td>\n",
       "      <td>Male</td>\n",
       "      <td>Female</td>\n",
       "    </tr>\n",
       "    <tr>\n",
       "      <th>SeniorCitizen</th>\n",
       "      <td>0</td>\n",
       "      <td>0</td>\n",
       "      <td>0</td>\n",
       "      <td>0</td>\n",
       "      <td>0</td>\n",
       "    </tr>\n",
       "    <tr>\n",
       "      <th>Partner</th>\n",
       "      <td>Yes</td>\n",
       "      <td>No</td>\n",
       "      <td>No</td>\n",
       "      <td>No</td>\n",
       "      <td>No</td>\n",
       "    </tr>\n",
       "    <tr>\n",
       "      <th>Dependents</th>\n",
       "      <td>No</td>\n",
       "      <td>No</td>\n",
       "      <td>No</td>\n",
       "      <td>No</td>\n",
       "      <td>No</td>\n",
       "    </tr>\n",
       "    <tr>\n",
       "      <th>tenure</th>\n",
       "      <td>1</td>\n",
       "      <td>34</td>\n",
       "      <td>2</td>\n",
       "      <td>45</td>\n",
       "      <td>2</td>\n",
       "    </tr>\n",
       "    <tr>\n",
       "      <th>PhoneService</th>\n",
       "      <td>No</td>\n",
       "      <td>Yes</td>\n",
       "      <td>Yes</td>\n",
       "      <td>No</td>\n",
       "      <td>Yes</td>\n",
       "    </tr>\n",
       "    <tr>\n",
       "      <th>MultipleLines</th>\n",
       "      <td>No phone service</td>\n",
       "      <td>No</td>\n",
       "      <td>No</td>\n",
       "      <td>No phone service</td>\n",
       "      <td>No</td>\n",
       "    </tr>\n",
       "    <tr>\n",
       "      <th>InternetService</th>\n",
       "      <td>DSL</td>\n",
       "      <td>DSL</td>\n",
       "      <td>DSL</td>\n",
       "      <td>DSL</td>\n",
       "      <td>Fiber optic</td>\n",
       "    </tr>\n",
       "    <tr>\n",
       "      <th>OnlineSecurity</th>\n",
       "      <td>No</td>\n",
       "      <td>Yes</td>\n",
       "      <td>Yes</td>\n",
       "      <td>Yes</td>\n",
       "      <td>No</td>\n",
       "    </tr>\n",
       "    <tr>\n",
       "      <th>OnlineBackup</th>\n",
       "      <td>Yes</td>\n",
       "      <td>No</td>\n",
       "      <td>Yes</td>\n",
       "      <td>No</td>\n",
       "      <td>No</td>\n",
       "    </tr>\n",
       "    <tr>\n",
       "      <th>DeviceProtection</th>\n",
       "      <td>No</td>\n",
       "      <td>Yes</td>\n",
       "      <td>No</td>\n",
       "      <td>Yes</td>\n",
       "      <td>No</td>\n",
       "    </tr>\n",
       "    <tr>\n",
       "      <th>TechSupport</th>\n",
       "      <td>No</td>\n",
       "      <td>No</td>\n",
       "      <td>No</td>\n",
       "      <td>Yes</td>\n",
       "      <td>No</td>\n",
       "    </tr>\n",
       "    <tr>\n",
       "      <th>StreamingTV</th>\n",
       "      <td>No</td>\n",
       "      <td>No</td>\n",
       "      <td>No</td>\n",
       "      <td>No</td>\n",
       "      <td>No</td>\n",
       "    </tr>\n",
       "    <tr>\n",
       "      <th>StreamingMovies</th>\n",
       "      <td>No</td>\n",
       "      <td>No</td>\n",
       "      <td>No</td>\n",
       "      <td>No</td>\n",
       "      <td>No</td>\n",
       "    </tr>\n",
       "    <tr>\n",
       "      <th>Contract</th>\n",
       "      <td>Month-to-month</td>\n",
       "      <td>One year</td>\n",
       "      <td>Month-to-month</td>\n",
       "      <td>One year</td>\n",
       "      <td>Month-to-month</td>\n",
       "    </tr>\n",
       "    <tr>\n",
       "      <th>PaperlessBilling</th>\n",
       "      <td>Yes</td>\n",
       "      <td>No</td>\n",
       "      <td>Yes</td>\n",
       "      <td>No</td>\n",
       "      <td>Yes</td>\n",
       "    </tr>\n",
       "    <tr>\n",
       "      <th>PaymentMethod</th>\n",
       "      <td>Electronic check</td>\n",
       "      <td>Mailed check</td>\n",
       "      <td>Mailed check</td>\n",
       "      <td>Bank transfer (automatic)</td>\n",
       "      <td>Electronic check</td>\n",
       "    </tr>\n",
       "    <tr>\n",
       "      <th>MonthlyCharges</th>\n",
       "      <td>29.85</td>\n",
       "      <td>56.95</td>\n",
       "      <td>53.85</td>\n",
       "      <td>42.3</td>\n",
       "      <td>70.7</td>\n",
       "    </tr>\n",
       "    <tr>\n",
       "      <th>TotalCharges</th>\n",
       "      <td>29.85</td>\n",
       "      <td>1889.5</td>\n",
       "      <td>108.15</td>\n",
       "      <td>1840.75</td>\n",
       "      <td>151.65</td>\n",
       "    </tr>\n",
       "    <tr>\n",
       "      <th>Churn</th>\n",
       "      <td>No</td>\n",
       "      <td>No</td>\n",
       "      <td>Yes</td>\n",
       "      <td>No</td>\n",
       "      <td>Yes</td>\n",
       "    </tr>\n",
       "  </tbody>\n",
       "</table>\n",
       "</div>"
      ],
      "text/plain": [
       "                                 0             1               2  \\\n",
       "customerID              7590-VHVEG    5575-GNVDE      3668-QPYBK   \n",
       "gender                      Female          Male            Male   \n",
       "SeniorCitizen                    0             0               0   \n",
       "Partner                        Yes            No              No   \n",
       "Dependents                      No            No              No   \n",
       "tenure                           1            34               2   \n",
       "PhoneService                    No           Yes             Yes   \n",
       "MultipleLines     No phone service            No              No   \n",
       "InternetService                DSL           DSL             DSL   \n",
       "OnlineSecurity                  No           Yes             Yes   \n",
       "OnlineBackup                   Yes            No             Yes   \n",
       "DeviceProtection                No           Yes              No   \n",
       "TechSupport                     No            No              No   \n",
       "StreamingTV                     No            No              No   \n",
       "StreamingMovies                 No            No              No   \n",
       "Contract            Month-to-month      One year  Month-to-month   \n",
       "PaperlessBilling               Yes            No             Yes   \n",
       "PaymentMethod     Electronic check  Mailed check    Mailed check   \n",
       "MonthlyCharges               29.85         56.95           53.85   \n",
       "TotalCharges                 29.85        1889.5          108.15   \n",
       "Churn                           No            No             Yes   \n",
       "\n",
       "                                          3                 4  \n",
       "customerID                       7795-CFOCW        9237-HQITU  \n",
       "gender                                 Male            Female  \n",
       "SeniorCitizen                             0                 0  \n",
       "Partner                                  No                No  \n",
       "Dependents                               No                No  \n",
       "tenure                                   45                 2  \n",
       "PhoneService                             No               Yes  \n",
       "MultipleLines              No phone service                No  \n",
       "InternetService                         DSL       Fiber optic  \n",
       "OnlineSecurity                          Yes                No  \n",
       "OnlineBackup                             No                No  \n",
       "DeviceProtection                        Yes                No  \n",
       "TechSupport                             Yes                No  \n",
       "StreamingTV                              No                No  \n",
       "StreamingMovies                          No                No  \n",
       "Contract                           One year    Month-to-month  \n",
       "PaperlessBilling                         No               Yes  \n",
       "PaymentMethod     Bank transfer (automatic)  Electronic check  \n",
       "MonthlyCharges                         42.3              70.7  \n",
       "TotalCharges                        1840.75            151.65  \n",
       "Churn                                    No               Yes  "
      ]
     },
     "execution_count": 4,
     "metadata": {},
     "output_type": "execute_result"
    }
   ],
   "source": [
    "# обзор нескольких строк. Для удобства (много колонок) транспонируем датафрейм\n",
    "\n",
    "df.head().T"
   ]
  },
  {
   "cell_type": "markdown",
   "id": "2d5f052f",
   "metadata": {},
   "source": [
    "|   |   |\n",
    "|:---|:---|\n",
    "| customerID | ID клиента |\n",
    "| gender | пол клиента |\n",
    "| Senior Citizen | является ли клиент пожилым (0, 1) |\n",
    "| Partner | наличие партнера/супруга (да, нет) |\n",
    "| Dependents | наличие иждивенцeв (да, нет) |\n",
    "| tenure | количество месяцев с момента начала действия контракта |\n",
    "| Phone Service | подключена ли у клиента телефонная служба (да, нет) |\n",
    "| Multiple Lines | подключено ли несколько телефонных линий |\n",
    "| Internet Service | тип интернет-сервиса |\n",
    "| Online Security | подключен ли сервис онлайн-безопасности |\n",
    "| Online Backup | подключен ли сервис резервного копирования |\n",
    "| Device Protection | подключен ли сервис защиты устройств |\n",
    "| Tech Support | есть ли у клиента техподдержка |\n",
    "| StreamingTV | подключен ли сервис потоковой передачи ТВ |\n",
    "| StreamingMovies | подключен ли сервис потоковой передачи фильмов |\n",
    "| Contract | тип контракта |\n",
    "| Paperless Billing | подключено ли электронное выставление счета (да, нет) |\n",
    "| Payment Method | способ оплаты |\n",
    "| Monthly Charges | сумма ежемесячного платежа |\n",
    "| Total Charges | общая сумма начислений |\n",
    "| Churn | является ли клиент ушедшим (да, нет) |"
   ]
  },
  {
   "cell_type": "code",
   "execution_count": 5,
   "id": "2433436c",
   "metadata": {},
   "outputs": [
    {
     "name": "stdout",
     "output_type": "stream",
     "text": [
      "<class 'pandas.core.frame.DataFrame'>\n",
      "RangeIndex: 7043 entries, 0 to 7042\n",
      "Data columns (total 21 columns):\n",
      " #   Column            Non-Null Count  Dtype  \n",
      "---  ------            --------------  -----  \n",
      " 0   customerID        7043 non-null   object \n",
      " 1   gender            7043 non-null   object \n",
      " 2   SeniorCitizen     7043 non-null   int64  \n",
      " 3   Partner           7043 non-null   object \n",
      " 4   Dependents        7043 non-null   object \n",
      " 5   tenure            7043 non-null   int64  \n",
      " 6   PhoneService      7043 non-null   object \n",
      " 7   MultipleLines     7043 non-null   object \n",
      " 8   InternetService   7043 non-null   object \n",
      " 9   OnlineSecurity    7043 non-null   object \n",
      " 10  OnlineBackup      7043 non-null   object \n",
      " 11  DeviceProtection  7043 non-null   object \n",
      " 12  TechSupport       7043 non-null   object \n",
      " 13  StreamingTV       7043 non-null   object \n",
      " 14  StreamingMovies   7043 non-null   object \n",
      " 15  Contract          7043 non-null   object \n",
      " 16  PaperlessBilling  7043 non-null   object \n",
      " 17  PaymentMethod     7043 non-null   object \n",
      " 18  MonthlyCharges    7043 non-null   float64\n",
      " 19  TotalCharges      7043 non-null   object \n",
      " 20  Churn             7043 non-null   object \n",
      "dtypes: float64(1), int64(2), object(18)\n",
      "memory usage: 1.1+ MB\n"
     ]
    }
   ],
   "source": [
    "# опрелелим типы данных в колонках и наличие пропущенных значений\n",
    "\n",
    "df.info()"
   ]
  },
  {
   "cell_type": "markdown",
   "id": "33b44924",
   "metadata": {},
   "source": [
    "Пропущенных значений как будто нет. Однако, следует обратить внимание на колонку TotalCharges, в которой должны быть числовые данные. Возможно, в записях этой колонки присутствуют пробелы."
   ]
  },
  {
   "cell_type": "code",
   "execution_count": 6,
   "id": "2a94ad91",
   "metadata": {},
   "outputs": [
    {
     "data": {
      "text/html": [
       "<div>\n",
       "<style scoped>\n",
       "    .dataframe tbody tr th:only-of-type {\n",
       "        vertical-align: middle;\n",
       "    }\n",
       "\n",
       "    .dataframe tbody tr th {\n",
       "        vertical-align: top;\n",
       "    }\n",
       "\n",
       "    .dataframe thead th {\n",
       "        text-align: right;\n",
       "    }\n",
       "</style>\n",
       "<table border=\"1\" class=\"dataframe\">\n",
       "  <thead>\n",
       "    <tr style=\"text-align: right;\">\n",
       "      <th></th>\n",
       "      <th>customerID</th>\n",
       "      <th>TotalCharges</th>\n",
       "    </tr>\n",
       "  </thead>\n",
       "  <tbody>\n",
       "    <tr>\n",
       "      <th>488</th>\n",
       "      <td>4472-LVYGI</td>\n",
       "      <td></td>\n",
       "    </tr>\n",
       "    <tr>\n",
       "      <th>753</th>\n",
       "      <td>3115-CZMZD</td>\n",
       "      <td></td>\n",
       "    </tr>\n",
       "    <tr>\n",
       "      <th>936</th>\n",
       "      <td>5709-LVOEQ</td>\n",
       "      <td></td>\n",
       "    </tr>\n",
       "    <tr>\n",
       "      <th>1082</th>\n",
       "      <td>4367-NUYAO</td>\n",
       "      <td></td>\n",
       "    </tr>\n",
       "    <tr>\n",
       "      <th>1340</th>\n",
       "      <td>1371-DWPAZ</td>\n",
       "      <td></td>\n",
       "    </tr>\n",
       "    <tr>\n",
       "      <th>3331</th>\n",
       "      <td>7644-OMVMY</td>\n",
       "      <td></td>\n",
       "    </tr>\n",
       "    <tr>\n",
       "      <th>3826</th>\n",
       "      <td>3213-VVOLG</td>\n",
       "      <td></td>\n",
       "    </tr>\n",
       "    <tr>\n",
       "      <th>4380</th>\n",
       "      <td>2520-SGTTA</td>\n",
       "      <td></td>\n",
       "    </tr>\n",
       "    <tr>\n",
       "      <th>5218</th>\n",
       "      <td>2923-ARZLG</td>\n",
       "      <td></td>\n",
       "    </tr>\n",
       "    <tr>\n",
       "      <th>6670</th>\n",
       "      <td>4075-WKNIU</td>\n",
       "      <td></td>\n",
       "    </tr>\n",
       "    <tr>\n",
       "      <th>6754</th>\n",
       "      <td>2775-SEFEE</td>\n",
       "      <td></td>\n",
       "    </tr>\n",
       "  </tbody>\n",
       "</table>\n",
       "</div>"
      ],
      "text/plain": [
       "      customerID TotalCharges\n",
       "488   4472-LVYGI             \n",
       "753   3115-CZMZD             \n",
       "936   5709-LVOEQ             \n",
       "1082  4367-NUYAO             \n",
       "1340  1371-DWPAZ             \n",
       "3331  7644-OMVMY             \n",
       "3826  3213-VVOLG             \n",
       "4380  2520-SGTTA             \n",
       "5218  2923-ARZLG             \n",
       "6670  4075-WKNIU             \n",
       "6754  2775-SEFEE             "
      ]
     },
     "execution_count": 6,
     "metadata": {},
     "output_type": "execute_result"
    }
   ],
   "source": [
    "# Проверка на наличие пробелов в строках колонки TotalCharges. \n",
    "\n",
    "df[df['TotalCharges']==' '][['customerID', 'TotalCharges']]        # выводим только колонки customerID и TotalCharges"
   ]
  },
  {
   "cell_type": "code",
   "execution_count": 7,
   "id": "03fc8699",
   "metadata": {},
   "outputs": [],
   "source": [
    "# изменяем тип данных в колонке TotalCharges на числовой\n",
    "\n",
    "df.TotalCharges = pd.to_numeric(df.TotalCharges, errors='coerce')    # errors='coerce' - пробелы становятся NaN\n",
    "df.TotalCharges.fillna(0, inplace=True)                              # заменяем NaN нулями(0)"
   ]
  },
  {
   "cell_type": "code",
   "execution_count": 8,
   "id": "28081fbb",
   "metadata": {},
   "outputs": [],
   "source": [
    "# приводим названия колонок и записи к единообразию: все буквы строчные, слова соединены символом \"_\"\n",
    "\n",
    "df.columns = df.columns.str.lower().str.replace(' ', '_')\n",
    "\n",
    "string_columns = list(df.columns[df.dtypes=='object'])\n",
    "\n",
    "for col in string_columns:\n",
    "    df[col] = df[col].str.lower().str.replace(' ', '_')"
   ]
  },
  {
   "cell_type": "code",
   "execution_count": 9,
   "id": "ea4fb462",
   "metadata": {},
   "outputs": [
    {
     "data": {
      "text/html": [
       "<div>\n",
       "<style scoped>\n",
       "    .dataframe tbody tr th:only-of-type {\n",
       "        vertical-align: middle;\n",
       "    }\n",
       "\n",
       "    .dataframe tbody tr th {\n",
       "        vertical-align: top;\n",
       "    }\n",
       "\n",
       "    .dataframe thead th {\n",
       "        text-align: right;\n",
       "    }\n",
       "</style>\n",
       "<table border=\"1\" class=\"dataframe\">\n",
       "  <thead>\n",
       "    <tr style=\"text-align: right;\">\n",
       "      <th></th>\n",
       "      <th>0</th>\n",
       "      <th>1</th>\n",
       "      <th>2</th>\n",
       "      <th>3</th>\n",
       "      <th>4</th>\n",
       "    </tr>\n",
       "  </thead>\n",
       "  <tbody>\n",
       "    <tr>\n",
       "      <th>customerid</th>\n",
       "      <td>7590-vhveg</td>\n",
       "      <td>5575-gnvde</td>\n",
       "      <td>3668-qpybk</td>\n",
       "      <td>7795-cfocw</td>\n",
       "      <td>9237-hqitu</td>\n",
       "    </tr>\n",
       "    <tr>\n",
       "      <th>gender</th>\n",
       "      <td>female</td>\n",
       "      <td>male</td>\n",
       "      <td>male</td>\n",
       "      <td>male</td>\n",
       "      <td>female</td>\n",
       "    </tr>\n",
       "    <tr>\n",
       "      <th>seniorcitizen</th>\n",
       "      <td>0</td>\n",
       "      <td>0</td>\n",
       "      <td>0</td>\n",
       "      <td>0</td>\n",
       "      <td>0</td>\n",
       "    </tr>\n",
       "    <tr>\n",
       "      <th>partner</th>\n",
       "      <td>yes</td>\n",
       "      <td>no</td>\n",
       "      <td>no</td>\n",
       "      <td>no</td>\n",
       "      <td>no</td>\n",
       "    </tr>\n",
       "    <tr>\n",
       "      <th>dependents</th>\n",
       "      <td>no</td>\n",
       "      <td>no</td>\n",
       "      <td>no</td>\n",
       "      <td>no</td>\n",
       "      <td>no</td>\n",
       "    </tr>\n",
       "    <tr>\n",
       "      <th>tenure</th>\n",
       "      <td>1</td>\n",
       "      <td>34</td>\n",
       "      <td>2</td>\n",
       "      <td>45</td>\n",
       "      <td>2</td>\n",
       "    </tr>\n",
       "    <tr>\n",
       "      <th>phoneservice</th>\n",
       "      <td>no</td>\n",
       "      <td>yes</td>\n",
       "      <td>yes</td>\n",
       "      <td>no</td>\n",
       "      <td>yes</td>\n",
       "    </tr>\n",
       "    <tr>\n",
       "      <th>multiplelines</th>\n",
       "      <td>no_phone_service</td>\n",
       "      <td>no</td>\n",
       "      <td>no</td>\n",
       "      <td>no_phone_service</td>\n",
       "      <td>no</td>\n",
       "    </tr>\n",
       "    <tr>\n",
       "      <th>internetservice</th>\n",
       "      <td>dsl</td>\n",
       "      <td>dsl</td>\n",
       "      <td>dsl</td>\n",
       "      <td>dsl</td>\n",
       "      <td>fiber_optic</td>\n",
       "    </tr>\n",
       "    <tr>\n",
       "      <th>onlinesecurity</th>\n",
       "      <td>no</td>\n",
       "      <td>yes</td>\n",
       "      <td>yes</td>\n",
       "      <td>yes</td>\n",
       "      <td>no</td>\n",
       "    </tr>\n",
       "    <tr>\n",
       "      <th>onlinebackup</th>\n",
       "      <td>yes</td>\n",
       "      <td>no</td>\n",
       "      <td>yes</td>\n",
       "      <td>no</td>\n",
       "      <td>no</td>\n",
       "    </tr>\n",
       "    <tr>\n",
       "      <th>deviceprotection</th>\n",
       "      <td>no</td>\n",
       "      <td>yes</td>\n",
       "      <td>no</td>\n",
       "      <td>yes</td>\n",
       "      <td>no</td>\n",
       "    </tr>\n",
       "    <tr>\n",
       "      <th>techsupport</th>\n",
       "      <td>no</td>\n",
       "      <td>no</td>\n",
       "      <td>no</td>\n",
       "      <td>yes</td>\n",
       "      <td>no</td>\n",
       "    </tr>\n",
       "    <tr>\n",
       "      <th>streamingtv</th>\n",
       "      <td>no</td>\n",
       "      <td>no</td>\n",
       "      <td>no</td>\n",
       "      <td>no</td>\n",
       "      <td>no</td>\n",
       "    </tr>\n",
       "    <tr>\n",
       "      <th>streamingmovies</th>\n",
       "      <td>no</td>\n",
       "      <td>no</td>\n",
       "      <td>no</td>\n",
       "      <td>no</td>\n",
       "      <td>no</td>\n",
       "    </tr>\n",
       "    <tr>\n",
       "      <th>contract</th>\n",
       "      <td>month-to-month</td>\n",
       "      <td>one_year</td>\n",
       "      <td>month-to-month</td>\n",
       "      <td>one_year</td>\n",
       "      <td>month-to-month</td>\n",
       "    </tr>\n",
       "    <tr>\n",
       "      <th>paperlessbilling</th>\n",
       "      <td>yes</td>\n",
       "      <td>no</td>\n",
       "      <td>yes</td>\n",
       "      <td>no</td>\n",
       "      <td>yes</td>\n",
       "    </tr>\n",
       "    <tr>\n",
       "      <th>paymentmethod</th>\n",
       "      <td>electronic_check</td>\n",
       "      <td>mailed_check</td>\n",
       "      <td>mailed_check</td>\n",
       "      <td>bank_transfer_(automatic)</td>\n",
       "      <td>electronic_check</td>\n",
       "    </tr>\n",
       "    <tr>\n",
       "      <th>monthlycharges</th>\n",
       "      <td>29.85</td>\n",
       "      <td>56.95</td>\n",
       "      <td>53.85</td>\n",
       "      <td>42.3</td>\n",
       "      <td>70.7</td>\n",
       "    </tr>\n",
       "    <tr>\n",
       "      <th>totalcharges</th>\n",
       "      <td>29.85</td>\n",
       "      <td>1889.5</td>\n",
       "      <td>108.15</td>\n",
       "      <td>1840.75</td>\n",
       "      <td>151.65</td>\n",
       "    </tr>\n",
       "    <tr>\n",
       "      <th>churn</th>\n",
       "      <td>no</td>\n",
       "      <td>no</td>\n",
       "      <td>yes</td>\n",
       "      <td>no</td>\n",
       "      <td>yes</td>\n",
       "    </tr>\n",
       "  </tbody>\n",
       "</table>\n",
       "</div>"
      ],
      "text/plain": [
       "                                 0             1               2  \\\n",
       "customerid              7590-vhveg    5575-gnvde      3668-qpybk   \n",
       "gender                      female          male            male   \n",
       "seniorcitizen                    0             0               0   \n",
       "partner                        yes            no              no   \n",
       "dependents                      no            no              no   \n",
       "tenure                           1            34               2   \n",
       "phoneservice                    no           yes             yes   \n",
       "multiplelines     no_phone_service            no              no   \n",
       "internetservice                dsl           dsl             dsl   \n",
       "onlinesecurity                  no           yes             yes   \n",
       "onlinebackup                   yes            no             yes   \n",
       "deviceprotection                no           yes              no   \n",
       "techsupport                     no            no              no   \n",
       "streamingtv                     no            no              no   \n",
       "streamingmovies                 no            no              no   \n",
       "contract            month-to-month      one_year  month-to-month   \n",
       "paperlessbilling               yes            no             yes   \n",
       "paymentmethod     electronic_check  mailed_check    mailed_check   \n",
       "monthlycharges               29.85         56.95           53.85   \n",
       "totalcharges                 29.85        1889.5          108.15   \n",
       "churn                           no            no             yes   \n",
       "\n",
       "                                          3                 4  \n",
       "customerid                       7795-cfocw        9237-hqitu  \n",
       "gender                                 male            female  \n",
       "seniorcitizen                             0                 0  \n",
       "partner                                  no                no  \n",
       "dependents                               no                no  \n",
       "tenure                                   45                 2  \n",
       "phoneservice                             no               yes  \n",
       "multiplelines              no_phone_service                no  \n",
       "internetservice                         dsl       fiber_optic  \n",
       "onlinesecurity                          yes                no  \n",
       "onlinebackup                             no                no  \n",
       "deviceprotection                        yes                no  \n",
       "techsupport                             yes                no  \n",
       "streamingtv                              no                no  \n",
       "streamingmovies                          no                no  \n",
       "contract                           one_year    month-to-month  \n",
       "paperlessbilling                         no               yes  \n",
       "paymentmethod     bank_transfer_(automatic)  electronic_check  \n",
       "monthlycharges                         42.3              70.7  \n",
       "totalcharges                        1840.75            151.65  \n",
       "churn                                    no               yes  "
      ]
     },
     "execution_count": 9,
     "metadata": {},
     "output_type": "execute_result"
    }
   ],
   "source": [
    "# обзор датафрейма после обработки\n",
    "\n",
    "df.head().T"
   ]
  },
  {
   "cell_type": "markdown",
   "id": "803a358d",
   "metadata": {},
   "source": [
    "Целевая переменная - churn. Преобразуем значения 'yes' и 'no' в 1 и 0, соответственно."
   ]
  },
  {
   "cell_type": "code",
   "execution_count": 10,
   "id": "4d77b17a",
   "metadata": {},
   "outputs": [],
   "source": [
    "df.churn = (df.churn == 'yes').astype(int)"
   ]
  },
  {
   "cell_type": "markdown",
   "id": "69ff8ec4",
   "metadata": {},
   "source": [
    "## 2. Разделение исходного набора данных"
   ]
  },
  {
   "cell_type": "markdown",
   "id": "36e829c7",
   "metadata": {},
   "source": [
    "Разделим исходный набор данных на обучающий, проверочный и тестовый наборы."
   ]
  },
  {
   "cell_type": "code",
   "execution_count": 11,
   "id": "1526ec12",
   "metadata": {},
   "outputs": [],
   "source": [
    "# импорт функции для разделения данных на наборы\n",
    "\n",
    "from sklearn.model_selection import train_test_split"
   ]
  },
  {
   "cell_type": "code",
   "execution_count": 12,
   "id": "9c0d77d8",
   "metadata": {},
   "outputs": [],
   "source": [
    "# сперва делим на 2 набора: большой обучающий (80%) и тестовый (20%)\n",
    "\n",
    "df_train_full, df_test = train_test_split(df, test_size=0.2, random_state=1)   # фиксируем параметр random_state для воспроизводимости"
   ]
  },
  {
   "cell_type": "code",
   "execution_count": 13,
   "id": "cda30a11",
   "metadata": {},
   "outputs": [],
   "source": [
    "# разделим большой обучающий набор на еще на 2: обучающий и проверочный\n",
    "\n",
    "df_train, df_val = train_test_split(df_train_full, test_size=0.33, random_state=11) "
   ]
  },
  {
   "cell_type": "code",
   "execution_count": 14,
   "id": "4dba9e62",
   "metadata": {},
   "outputs": [],
   "source": [
    "# выделим из каждого набора целевую переменную\n",
    "\n",
    "y_train = df_train.churn.values\n",
    "y_val = df_val.churn.values\n",
    "y_test = df_test.churn.values"
   ]
  },
  {
   "cell_type": "code",
   "execution_count": 15,
   "id": "367fa715",
   "metadata": {},
   "outputs": [],
   "source": [
    "# удаляем из наборов колонку 'churn'\n",
    "\n",
    "del df_train['churn']\n",
    "del df_val['churn']\n",
    "del df_test['churn']"
   ]
  },
  {
   "cell_type": "markdown",
   "id": "49fbf869",
   "metadata": {},
   "source": [
    "## 3. Исследовательский анализ данных"
   ]
  },
  {
   "cell_type": "code",
   "execution_count": 16,
   "id": "4dea7f72",
   "metadata": {},
   "outputs": [
    {
     "data": {
      "text/plain": [
       "customerid          0\n",
       "gender              0\n",
       "seniorcitizen       0\n",
       "partner             0\n",
       "dependents          0\n",
       "tenure              0\n",
       "phoneservice        0\n",
       "multiplelines       0\n",
       "internetservice     0\n",
       "onlinesecurity      0\n",
       "onlinebackup        0\n",
       "deviceprotection    0\n",
       "techsupport         0\n",
       "streamingtv         0\n",
       "streamingmovies     0\n",
       "contract            0\n",
       "paperlessbilling    0\n",
       "paymentmethod       0\n",
       "monthlycharges      0\n",
       "totalcharges        0\n",
       "churn               0\n",
       "dtype: int64"
      ]
     },
     "execution_count": 16,
     "metadata": {},
     "output_type": "execute_result"
    }
   ],
   "source": [
    "# еще раз проверим наличие пропущенных данных\n",
    "\n",
    "df_train_full.isnull().sum()"
   ]
  },
  {
   "cell_type": "code",
   "execution_count": 17,
   "id": "1d2609f7",
   "metadata": {},
   "outputs": [
    {
     "data": {
      "text/plain": [
       "0    4113\n",
       "1    1521\n",
       "Name: churn, dtype: int64"
      ]
     },
     "execution_count": 17,
     "metadata": {},
     "output_type": "execute_result"
    }
   ],
   "source": [
    "# проверим распределение целевой переменной\n",
    "\n",
    "df_train_full.churn.value_counts()"
   ]
  },
  {
   "cell_type": "code",
   "execution_count": 18,
   "id": "9089412d",
   "metadata": {},
   "outputs": [
    {
     "data": {
      "text/plain": [
       "0.26996805111821087"
      ]
     },
     "execution_count": 18,
     "metadata": {},
     "output_type": "execute_result"
    }
   ],
   "source": [
    "# распределение целевой переменной в процентах\n",
    "\n",
    "global_mean = df_train_full.churn.mean()\n",
    "global_mean"
   ]
  },
  {
   "cell_type": "markdown",
   "id": "f1b2aae6",
   "metadata": {},
   "source": [
    "Примерно 27% клиентов уходят (расторгают контракт).  \n",
    "Данные несбалансированные: клиентов, расторгающих контракт, почти в 3 раза меньше, чем клиентов, которые остаются."
   ]
  },
  {
   "cell_type": "code",
   "execution_count": 19,
   "id": "320691c3",
   "metadata": {},
   "outputs": [
    {
     "name": "stdout",
     "output_type": "stream",
     "text": [
      " numerical - ['tenure', 'monthlycharges', 'totalcharges'],\n",
      " categorical - ['gender', 'seniorcitizen', 'partner', 'dependents', 'phoneservice', 'multiplelines', 'internetservice', 'onlinesecurity', 'onlinebackup', 'deviceprotection', 'techsupport', 'streamingtv', 'streamingmovies', 'contract', 'paperlessbilling', 'paymentmethod']\n"
     ]
    }
   ],
   "source": [
    "# создадим 2 списка параметров: числовые и категориальные. \n",
    "# колонку seniorcitizen относим к категориальным признакам, колонку churn не учитываем\n",
    "\n",
    "numerical = [col for col in df_train_full.columns if df_train_full[col].dtypes != 'object' and col != 'seniorcitizen' and col != 'churn']\n",
    "categorical = [col for col in df_train_full.columns if col != 'customerid' and (df_train_full[col].dtypes == 'object' or col == 'seniorcitizen')]\n",
    "\n",
    "print(f' numerical - {numerical},\\n categorical - {categorical}')"
   ]
  },
  {
   "cell_type": "markdown",
   "id": "521c1cf3",
   "metadata": {},
   "source": [
    "### 3.1. Анализ важности признаков"
   ]
  },
  {
   "cell_type": "markdown",
   "id": "c3da3a7c",
   "metadata": {},
   "source": [
    "### 3.1.1. Сравнение глобального оттока с оттоком в разрезах по переменным "
   ]
  },
  {
   "cell_type": "markdown",
   "id": "833ea306",
   "metadata": {},
   "source": [
    "Проведем анализ важности признаков, чтобы выяснить какие переменные влияют на целевую переменную и будут полезны для модели, а какие - нет."
   ]
  },
  {
   "cell_type": "code",
   "execution_count": 20,
   "id": "7d1cde9c",
   "metadata": {},
   "outputs": [
    {
     "name": "stdout",
     "output_type": "stream",
     "text": [
      "gender==female: 0.28 \n",
      "gender==male:   0.26 \n",
      "global:         0.27\n"
     ]
    }
   ],
   "source": [
    "# проверим переменную gender\n",
    "\n",
    "female_mean = df_train_full[df_train_full.gender == 'female'].churn.mean()\n",
    "male_mean = df_train_full[df_train_full.gender == 'male'].churn.mean()\n",
    "\n",
    "print(f'gender==female: {round(female_mean, 2)} \\n\\\n",
    "gender==male:   {round(male_mean, 2)} \\n\\\n",
    "global:         {round(global_mean, 2)}')"
   ]
  },
  {
   "cell_type": "markdown",
   "id": "85b24c69",
   "metadata": {},
   "source": [
    "Цифры глобального оттока и оттока в разрезе пола довольно похожи. Значит gender не является полезной переменной при прогнозировании оттока."
   ]
  },
  {
   "cell_type": "markdown",
   "id": "2c00b52f",
   "metadata": {},
   "source": [
    "Добавим для оценки разницу между \"индивидуальным\" оттоком и глобальным оттоком, а также коэффициент риска (отношение \"индивидуального\" оттока к глобальному), и посчитаем для всех категориальных признаков."
   ]
  },
  {
   "cell_type": "code",
   "execution_count": 21,
   "id": "d8f52d77",
   "metadata": {},
   "outputs": [],
   "source": [
    "# импорт функции для удобного отображения таблиц в цикле\n",
    "\n",
    "from IPython.display import display"
   ]
  },
  {
   "cell_type": "code",
   "execution_count": 22,
   "id": "bc59f051",
   "metadata": {},
   "outputs": [
    {
     "data": {
      "text/html": [
       "<div>\n",
       "<style scoped>\n",
       "    .dataframe tbody tr th:only-of-type {\n",
       "        vertical-align: middle;\n",
       "    }\n",
       "\n",
       "    .dataframe tbody tr th {\n",
       "        vertical-align: top;\n",
       "    }\n",
       "\n",
       "    .dataframe thead th {\n",
       "        text-align: right;\n",
       "    }\n",
       "</style>\n",
       "<table border=\"1\" class=\"dataframe\">\n",
       "  <thead>\n",
       "    <tr style=\"text-align: right;\">\n",
       "      <th></th>\n",
       "      <th>mean</th>\n",
       "      <th>diff</th>\n",
       "      <th>rate</th>\n",
       "    </tr>\n",
       "    <tr>\n",
       "      <th>gender</th>\n",
       "      <th></th>\n",
       "      <th></th>\n",
       "      <th></th>\n",
       "    </tr>\n",
       "  </thead>\n",
       "  <tbody>\n",
       "    <tr>\n",
       "      <th>female</th>\n",
       "      <td>0.276824</td>\n",
       "      <td>0.006856</td>\n",
       "      <td>1.025396</td>\n",
       "    </tr>\n",
       "    <tr>\n",
       "      <th>male</th>\n",
       "      <td>0.263214</td>\n",
       "      <td>-0.006755</td>\n",
       "      <td>0.974980</td>\n",
       "    </tr>\n",
       "  </tbody>\n",
       "</table>\n",
       "</div>"
      ],
      "text/plain": [
       "            mean      diff      rate\n",
       "gender                              \n",
       "female  0.276824  0.006856  1.025396\n",
       "male    0.263214 -0.006755  0.974980"
      ]
     },
     "metadata": {},
     "output_type": "display_data"
    },
    {
     "data": {
      "text/html": [
       "<div>\n",
       "<style scoped>\n",
       "    .dataframe tbody tr th:only-of-type {\n",
       "        vertical-align: middle;\n",
       "    }\n",
       "\n",
       "    .dataframe tbody tr th {\n",
       "        vertical-align: top;\n",
       "    }\n",
       "\n",
       "    .dataframe thead th {\n",
       "        text-align: right;\n",
       "    }\n",
       "</style>\n",
       "<table border=\"1\" class=\"dataframe\">\n",
       "  <thead>\n",
       "    <tr style=\"text-align: right;\">\n",
       "      <th></th>\n",
       "      <th>mean</th>\n",
       "      <th>diff</th>\n",
       "      <th>rate</th>\n",
       "    </tr>\n",
       "    <tr>\n",
       "      <th>seniorcitizen</th>\n",
       "      <th></th>\n",
       "      <th></th>\n",
       "      <th></th>\n",
       "    </tr>\n",
       "  </thead>\n",
       "  <tbody>\n",
       "    <tr>\n",
       "      <th>0</th>\n",
       "      <td>0.242270</td>\n",
       "      <td>-0.027698</td>\n",
       "      <td>0.897403</td>\n",
       "    </tr>\n",
       "    <tr>\n",
       "      <th>1</th>\n",
       "      <td>0.413377</td>\n",
       "      <td>0.143409</td>\n",
       "      <td>1.531208</td>\n",
       "    </tr>\n",
       "  </tbody>\n",
       "</table>\n",
       "</div>"
      ],
      "text/plain": [
       "                   mean      diff      rate\n",
       "seniorcitizen                              \n",
       "0              0.242270 -0.027698  0.897403\n",
       "1              0.413377  0.143409  1.531208"
      ]
     },
     "metadata": {},
     "output_type": "display_data"
    },
    {
     "data": {
      "text/html": [
       "<div>\n",
       "<style scoped>\n",
       "    .dataframe tbody tr th:only-of-type {\n",
       "        vertical-align: middle;\n",
       "    }\n",
       "\n",
       "    .dataframe tbody tr th {\n",
       "        vertical-align: top;\n",
       "    }\n",
       "\n",
       "    .dataframe thead th {\n",
       "        text-align: right;\n",
       "    }\n",
       "</style>\n",
       "<table border=\"1\" class=\"dataframe\">\n",
       "  <thead>\n",
       "    <tr style=\"text-align: right;\">\n",
       "      <th></th>\n",
       "      <th>mean</th>\n",
       "      <th>diff</th>\n",
       "      <th>rate</th>\n",
       "    </tr>\n",
       "    <tr>\n",
       "      <th>partner</th>\n",
       "      <th></th>\n",
       "      <th></th>\n",
       "      <th></th>\n",
       "    </tr>\n",
       "  </thead>\n",
       "  <tbody>\n",
       "    <tr>\n",
       "      <th>no</th>\n",
       "      <td>0.329809</td>\n",
       "      <td>0.059841</td>\n",
       "      <td>1.221659</td>\n",
       "    </tr>\n",
       "    <tr>\n",
       "      <th>yes</th>\n",
       "      <td>0.205033</td>\n",
       "      <td>-0.064935</td>\n",
       "      <td>0.759472</td>\n",
       "    </tr>\n",
       "  </tbody>\n",
       "</table>\n",
       "</div>"
      ],
      "text/plain": [
       "             mean      diff      rate\n",
       "partner                              \n",
       "no       0.329809  0.059841  1.221659\n",
       "yes      0.205033 -0.064935  0.759472"
      ]
     },
     "metadata": {},
     "output_type": "display_data"
    },
    {
     "data": {
      "text/html": [
       "<div>\n",
       "<style scoped>\n",
       "    .dataframe tbody tr th:only-of-type {\n",
       "        vertical-align: middle;\n",
       "    }\n",
       "\n",
       "    .dataframe tbody tr th {\n",
       "        vertical-align: top;\n",
       "    }\n",
       "\n",
       "    .dataframe thead th {\n",
       "        text-align: right;\n",
       "    }\n",
       "</style>\n",
       "<table border=\"1\" class=\"dataframe\">\n",
       "  <thead>\n",
       "    <tr style=\"text-align: right;\">\n",
       "      <th></th>\n",
       "      <th>mean</th>\n",
       "      <th>diff</th>\n",
       "      <th>rate</th>\n",
       "    </tr>\n",
       "    <tr>\n",
       "      <th>dependents</th>\n",
       "      <th></th>\n",
       "      <th></th>\n",
       "      <th></th>\n",
       "    </tr>\n",
       "  </thead>\n",
       "  <tbody>\n",
       "    <tr>\n",
       "      <th>no</th>\n",
       "      <td>0.313760</td>\n",
       "      <td>0.043792</td>\n",
       "      <td>1.162212</td>\n",
       "    </tr>\n",
       "    <tr>\n",
       "      <th>yes</th>\n",
       "      <td>0.165666</td>\n",
       "      <td>-0.104302</td>\n",
       "      <td>0.613651</td>\n",
       "    </tr>\n",
       "  </tbody>\n",
       "</table>\n",
       "</div>"
      ],
      "text/plain": [
       "                mean      diff      rate\n",
       "dependents                              \n",
       "no          0.313760  0.043792  1.162212\n",
       "yes         0.165666 -0.104302  0.613651"
      ]
     },
     "metadata": {},
     "output_type": "display_data"
    },
    {
     "data": {
      "text/html": [
       "<div>\n",
       "<style scoped>\n",
       "    .dataframe tbody tr th:only-of-type {\n",
       "        vertical-align: middle;\n",
       "    }\n",
       "\n",
       "    .dataframe tbody tr th {\n",
       "        vertical-align: top;\n",
       "    }\n",
       "\n",
       "    .dataframe thead th {\n",
       "        text-align: right;\n",
       "    }\n",
       "</style>\n",
       "<table border=\"1\" class=\"dataframe\">\n",
       "  <thead>\n",
       "    <tr style=\"text-align: right;\">\n",
       "      <th></th>\n",
       "      <th>mean</th>\n",
       "      <th>diff</th>\n",
       "      <th>rate</th>\n",
       "    </tr>\n",
       "    <tr>\n",
       "      <th>phoneservice</th>\n",
       "      <th></th>\n",
       "      <th></th>\n",
       "      <th></th>\n",
       "    </tr>\n",
       "  </thead>\n",
       "  <tbody>\n",
       "    <tr>\n",
       "      <th>no</th>\n",
       "      <td>0.241316</td>\n",
       "      <td>-0.028652</td>\n",
       "      <td>0.893870</td>\n",
       "    </tr>\n",
       "    <tr>\n",
       "      <th>yes</th>\n",
       "      <td>0.273049</td>\n",
       "      <td>0.003081</td>\n",
       "      <td>1.011412</td>\n",
       "    </tr>\n",
       "  </tbody>\n",
       "</table>\n",
       "</div>"
      ],
      "text/plain": [
       "                  mean      diff      rate\n",
       "phoneservice                              \n",
       "no            0.241316 -0.028652  0.893870\n",
       "yes           0.273049  0.003081  1.011412"
      ]
     },
     "metadata": {},
     "output_type": "display_data"
    },
    {
     "data": {
      "text/html": [
       "<div>\n",
       "<style scoped>\n",
       "    .dataframe tbody tr th:only-of-type {\n",
       "        vertical-align: middle;\n",
       "    }\n",
       "\n",
       "    .dataframe tbody tr th {\n",
       "        vertical-align: top;\n",
       "    }\n",
       "\n",
       "    .dataframe thead th {\n",
       "        text-align: right;\n",
       "    }\n",
       "</style>\n",
       "<table border=\"1\" class=\"dataframe\">\n",
       "  <thead>\n",
       "    <tr style=\"text-align: right;\">\n",
       "      <th></th>\n",
       "      <th>mean</th>\n",
       "      <th>diff</th>\n",
       "      <th>rate</th>\n",
       "    </tr>\n",
       "    <tr>\n",
       "      <th>multiplelines</th>\n",
       "      <th></th>\n",
       "      <th></th>\n",
       "      <th></th>\n",
       "    </tr>\n",
       "  </thead>\n",
       "  <tbody>\n",
       "    <tr>\n",
       "      <th>no</th>\n",
       "      <td>0.257407</td>\n",
       "      <td>-0.012561</td>\n",
       "      <td>0.953474</td>\n",
       "    </tr>\n",
       "    <tr>\n",
       "      <th>no_phone_service</th>\n",
       "      <td>0.241316</td>\n",
       "      <td>-0.028652</td>\n",
       "      <td>0.893870</td>\n",
       "    </tr>\n",
       "    <tr>\n",
       "      <th>yes</th>\n",
       "      <td>0.290742</td>\n",
       "      <td>0.020773</td>\n",
       "      <td>1.076948</td>\n",
       "    </tr>\n",
       "  </tbody>\n",
       "</table>\n",
       "</div>"
      ],
      "text/plain": [
       "                      mean      diff      rate\n",
       "multiplelines                                 \n",
       "no                0.257407 -0.012561  0.953474\n",
       "no_phone_service  0.241316 -0.028652  0.893870\n",
       "yes               0.290742  0.020773  1.076948"
      ]
     },
     "metadata": {},
     "output_type": "display_data"
    },
    {
     "data": {
      "text/html": [
       "<div>\n",
       "<style scoped>\n",
       "    .dataframe tbody tr th:only-of-type {\n",
       "        vertical-align: middle;\n",
       "    }\n",
       "\n",
       "    .dataframe tbody tr th {\n",
       "        vertical-align: top;\n",
       "    }\n",
       "\n",
       "    .dataframe thead th {\n",
       "        text-align: right;\n",
       "    }\n",
       "</style>\n",
       "<table border=\"1\" class=\"dataframe\">\n",
       "  <thead>\n",
       "    <tr style=\"text-align: right;\">\n",
       "      <th></th>\n",
       "      <th>mean</th>\n",
       "      <th>diff</th>\n",
       "      <th>rate</th>\n",
       "    </tr>\n",
       "    <tr>\n",
       "      <th>internetservice</th>\n",
       "      <th></th>\n",
       "      <th></th>\n",
       "      <th></th>\n",
       "    </tr>\n",
       "  </thead>\n",
       "  <tbody>\n",
       "    <tr>\n",
       "      <th>dsl</th>\n",
       "      <td>0.192347</td>\n",
       "      <td>-0.077621</td>\n",
       "      <td>0.712482</td>\n",
       "    </tr>\n",
       "    <tr>\n",
       "      <th>fiber_optic</th>\n",
       "      <td>0.425171</td>\n",
       "      <td>0.155203</td>\n",
       "      <td>1.574895</td>\n",
       "    </tr>\n",
       "    <tr>\n",
       "      <th>no</th>\n",
       "      <td>0.077805</td>\n",
       "      <td>-0.192163</td>\n",
       "      <td>0.288201</td>\n",
       "    </tr>\n",
       "  </tbody>\n",
       "</table>\n",
       "</div>"
      ],
      "text/plain": [
       "                     mean      diff      rate\n",
       "internetservice                              \n",
       "dsl              0.192347 -0.077621  0.712482\n",
       "fiber_optic      0.425171  0.155203  1.574895\n",
       "no               0.077805 -0.192163  0.288201"
      ]
     },
     "metadata": {},
     "output_type": "display_data"
    },
    {
     "data": {
      "text/html": [
       "<div>\n",
       "<style scoped>\n",
       "    .dataframe tbody tr th:only-of-type {\n",
       "        vertical-align: middle;\n",
       "    }\n",
       "\n",
       "    .dataframe tbody tr th {\n",
       "        vertical-align: top;\n",
       "    }\n",
       "\n",
       "    .dataframe thead th {\n",
       "        text-align: right;\n",
       "    }\n",
       "</style>\n",
       "<table border=\"1\" class=\"dataframe\">\n",
       "  <thead>\n",
       "    <tr style=\"text-align: right;\">\n",
       "      <th></th>\n",
       "      <th>mean</th>\n",
       "      <th>diff</th>\n",
       "      <th>rate</th>\n",
       "    </tr>\n",
       "    <tr>\n",
       "      <th>onlinesecurity</th>\n",
       "      <th></th>\n",
       "      <th></th>\n",
       "      <th></th>\n",
       "    </tr>\n",
       "  </thead>\n",
       "  <tbody>\n",
       "    <tr>\n",
       "      <th>no</th>\n",
       "      <td>0.420921</td>\n",
       "      <td>0.150953</td>\n",
       "      <td>1.559152</td>\n",
       "    </tr>\n",
       "    <tr>\n",
       "      <th>no_internet_service</th>\n",
       "      <td>0.077805</td>\n",
       "      <td>-0.192163</td>\n",
       "      <td>0.288201</td>\n",
       "    </tr>\n",
       "    <tr>\n",
       "      <th>yes</th>\n",
       "      <td>0.153226</td>\n",
       "      <td>-0.116742</td>\n",
       "      <td>0.567570</td>\n",
       "    </tr>\n",
       "  </tbody>\n",
       "</table>\n",
       "</div>"
      ],
      "text/plain": [
       "                         mean      diff      rate\n",
       "onlinesecurity                                   \n",
       "no                   0.420921  0.150953  1.559152\n",
       "no_internet_service  0.077805 -0.192163  0.288201\n",
       "yes                  0.153226 -0.116742  0.567570"
      ]
     },
     "metadata": {},
     "output_type": "display_data"
    },
    {
     "data": {
      "text/html": [
       "<div>\n",
       "<style scoped>\n",
       "    .dataframe tbody tr th:only-of-type {\n",
       "        vertical-align: middle;\n",
       "    }\n",
       "\n",
       "    .dataframe tbody tr th {\n",
       "        vertical-align: top;\n",
       "    }\n",
       "\n",
       "    .dataframe thead th {\n",
       "        text-align: right;\n",
       "    }\n",
       "</style>\n",
       "<table border=\"1\" class=\"dataframe\">\n",
       "  <thead>\n",
       "    <tr style=\"text-align: right;\">\n",
       "      <th></th>\n",
       "      <th>mean</th>\n",
       "      <th>diff</th>\n",
       "      <th>rate</th>\n",
       "    </tr>\n",
       "    <tr>\n",
       "      <th>onlinebackup</th>\n",
       "      <th></th>\n",
       "      <th></th>\n",
       "      <th></th>\n",
       "    </tr>\n",
       "  </thead>\n",
       "  <tbody>\n",
       "    <tr>\n",
       "      <th>no</th>\n",
       "      <td>0.404323</td>\n",
       "      <td>0.134355</td>\n",
       "      <td>1.497672</td>\n",
       "    </tr>\n",
       "    <tr>\n",
       "      <th>no_internet_service</th>\n",
       "      <td>0.077805</td>\n",
       "      <td>-0.192163</td>\n",
       "      <td>0.288201</td>\n",
       "    </tr>\n",
       "    <tr>\n",
       "      <th>yes</th>\n",
       "      <td>0.217232</td>\n",
       "      <td>-0.052736</td>\n",
       "      <td>0.804660</td>\n",
       "    </tr>\n",
       "  </tbody>\n",
       "</table>\n",
       "</div>"
      ],
      "text/plain": [
       "                         mean      diff      rate\n",
       "onlinebackup                                     \n",
       "no                   0.404323  0.134355  1.497672\n",
       "no_internet_service  0.077805 -0.192163  0.288201\n",
       "yes                  0.217232 -0.052736  0.804660"
      ]
     },
     "metadata": {},
     "output_type": "display_data"
    },
    {
     "data": {
      "text/html": [
       "<div>\n",
       "<style scoped>\n",
       "    .dataframe tbody tr th:only-of-type {\n",
       "        vertical-align: middle;\n",
       "    }\n",
       "\n",
       "    .dataframe tbody tr th {\n",
       "        vertical-align: top;\n",
       "    }\n",
       "\n",
       "    .dataframe thead th {\n",
       "        text-align: right;\n",
       "    }\n",
       "</style>\n",
       "<table border=\"1\" class=\"dataframe\">\n",
       "  <thead>\n",
       "    <tr style=\"text-align: right;\">\n",
       "      <th></th>\n",
       "      <th>mean</th>\n",
       "      <th>diff</th>\n",
       "      <th>rate</th>\n",
       "    </tr>\n",
       "    <tr>\n",
       "      <th>deviceprotection</th>\n",
       "      <th></th>\n",
       "      <th></th>\n",
       "      <th></th>\n",
       "    </tr>\n",
       "  </thead>\n",
       "  <tbody>\n",
       "    <tr>\n",
       "      <th>no</th>\n",
       "      <td>0.395875</td>\n",
       "      <td>0.125907</td>\n",
       "      <td>1.466379</td>\n",
       "    </tr>\n",
       "    <tr>\n",
       "      <th>no_internet_service</th>\n",
       "      <td>0.077805</td>\n",
       "      <td>-0.192163</td>\n",
       "      <td>0.288201</td>\n",
       "    </tr>\n",
       "    <tr>\n",
       "      <th>yes</th>\n",
       "      <td>0.230412</td>\n",
       "      <td>-0.039556</td>\n",
       "      <td>0.853480</td>\n",
       "    </tr>\n",
       "  </tbody>\n",
       "</table>\n",
       "</div>"
      ],
      "text/plain": [
       "                         mean      diff      rate\n",
       "deviceprotection                                 \n",
       "no                   0.395875  0.125907  1.466379\n",
       "no_internet_service  0.077805 -0.192163  0.288201\n",
       "yes                  0.230412 -0.039556  0.853480"
      ]
     },
     "metadata": {},
     "output_type": "display_data"
    },
    {
     "data": {
      "text/html": [
       "<div>\n",
       "<style scoped>\n",
       "    .dataframe tbody tr th:only-of-type {\n",
       "        vertical-align: middle;\n",
       "    }\n",
       "\n",
       "    .dataframe tbody tr th {\n",
       "        vertical-align: top;\n",
       "    }\n",
       "\n",
       "    .dataframe thead th {\n",
       "        text-align: right;\n",
       "    }\n",
       "</style>\n",
       "<table border=\"1\" class=\"dataframe\">\n",
       "  <thead>\n",
       "    <tr style=\"text-align: right;\">\n",
       "      <th></th>\n",
       "      <th>mean</th>\n",
       "      <th>diff</th>\n",
       "      <th>rate</th>\n",
       "    </tr>\n",
       "    <tr>\n",
       "      <th>techsupport</th>\n",
       "      <th></th>\n",
       "      <th></th>\n",
       "      <th></th>\n",
       "    </tr>\n",
       "  </thead>\n",
       "  <tbody>\n",
       "    <tr>\n",
       "      <th>no</th>\n",
       "      <td>0.418914</td>\n",
       "      <td>0.148946</td>\n",
       "      <td>1.551717</td>\n",
       "    </tr>\n",
       "    <tr>\n",
       "      <th>no_internet_service</th>\n",
       "      <td>0.077805</td>\n",
       "      <td>-0.192163</td>\n",
       "      <td>0.288201</td>\n",
       "    </tr>\n",
       "    <tr>\n",
       "      <th>yes</th>\n",
       "      <td>0.159926</td>\n",
       "      <td>-0.110042</td>\n",
       "      <td>0.592390</td>\n",
       "    </tr>\n",
       "  </tbody>\n",
       "</table>\n",
       "</div>"
      ],
      "text/plain": [
       "                         mean      diff      rate\n",
       "techsupport                                      \n",
       "no                   0.418914  0.148946  1.551717\n",
       "no_internet_service  0.077805 -0.192163  0.288201\n",
       "yes                  0.159926 -0.110042  0.592390"
      ]
     },
     "metadata": {},
     "output_type": "display_data"
    },
    {
     "data": {
      "text/html": [
       "<div>\n",
       "<style scoped>\n",
       "    .dataframe tbody tr th:only-of-type {\n",
       "        vertical-align: middle;\n",
       "    }\n",
       "\n",
       "    .dataframe tbody tr th {\n",
       "        vertical-align: top;\n",
       "    }\n",
       "\n",
       "    .dataframe thead th {\n",
       "        text-align: right;\n",
       "    }\n",
       "</style>\n",
       "<table border=\"1\" class=\"dataframe\">\n",
       "  <thead>\n",
       "    <tr style=\"text-align: right;\">\n",
       "      <th></th>\n",
       "      <th>mean</th>\n",
       "      <th>diff</th>\n",
       "      <th>rate</th>\n",
       "    </tr>\n",
       "    <tr>\n",
       "      <th>streamingtv</th>\n",
       "      <th></th>\n",
       "      <th></th>\n",
       "      <th></th>\n",
       "    </tr>\n",
       "  </thead>\n",
       "  <tbody>\n",
       "    <tr>\n",
       "      <th>no</th>\n",
       "      <td>0.342832</td>\n",
       "      <td>0.072864</td>\n",
       "      <td>1.269897</td>\n",
       "    </tr>\n",
       "    <tr>\n",
       "      <th>no_internet_service</th>\n",
       "      <td>0.077805</td>\n",
       "      <td>-0.192163</td>\n",
       "      <td>0.288201</td>\n",
       "    </tr>\n",
       "    <tr>\n",
       "      <th>yes</th>\n",
       "      <td>0.302723</td>\n",
       "      <td>0.032755</td>\n",
       "      <td>1.121328</td>\n",
       "    </tr>\n",
       "  </tbody>\n",
       "</table>\n",
       "</div>"
      ],
      "text/plain": [
       "                         mean      diff      rate\n",
       "streamingtv                                      \n",
       "no                   0.342832  0.072864  1.269897\n",
       "no_internet_service  0.077805 -0.192163  0.288201\n",
       "yes                  0.302723  0.032755  1.121328"
      ]
     },
     "metadata": {},
     "output_type": "display_data"
    },
    {
     "data": {
      "text/html": [
       "<div>\n",
       "<style scoped>\n",
       "    .dataframe tbody tr th:only-of-type {\n",
       "        vertical-align: middle;\n",
       "    }\n",
       "\n",
       "    .dataframe tbody tr th {\n",
       "        vertical-align: top;\n",
       "    }\n",
       "\n",
       "    .dataframe thead th {\n",
       "        text-align: right;\n",
       "    }\n",
       "</style>\n",
       "<table border=\"1\" class=\"dataframe\">\n",
       "  <thead>\n",
       "    <tr style=\"text-align: right;\">\n",
       "      <th></th>\n",
       "      <th>mean</th>\n",
       "      <th>diff</th>\n",
       "      <th>rate</th>\n",
       "    </tr>\n",
       "    <tr>\n",
       "      <th>streamingmovies</th>\n",
       "      <th></th>\n",
       "      <th></th>\n",
       "      <th></th>\n",
       "    </tr>\n",
       "  </thead>\n",
       "  <tbody>\n",
       "    <tr>\n",
       "      <th>no</th>\n",
       "      <td>0.338906</td>\n",
       "      <td>0.068938</td>\n",
       "      <td>1.255358</td>\n",
       "    </tr>\n",
       "    <tr>\n",
       "      <th>no_internet_service</th>\n",
       "      <td>0.077805</td>\n",
       "      <td>-0.192163</td>\n",
       "      <td>0.288201</td>\n",
       "    </tr>\n",
       "    <tr>\n",
       "      <th>yes</th>\n",
       "      <td>0.307273</td>\n",
       "      <td>0.037305</td>\n",
       "      <td>1.138182</td>\n",
       "    </tr>\n",
       "  </tbody>\n",
       "</table>\n",
       "</div>"
      ],
      "text/plain": [
       "                         mean      diff      rate\n",
       "streamingmovies                                  \n",
       "no                   0.338906  0.068938  1.255358\n",
       "no_internet_service  0.077805 -0.192163  0.288201\n",
       "yes                  0.307273  0.037305  1.138182"
      ]
     },
     "metadata": {},
     "output_type": "display_data"
    },
    {
     "data": {
      "text/html": [
       "<div>\n",
       "<style scoped>\n",
       "    .dataframe tbody tr th:only-of-type {\n",
       "        vertical-align: middle;\n",
       "    }\n",
       "\n",
       "    .dataframe tbody tr th {\n",
       "        vertical-align: top;\n",
       "    }\n",
       "\n",
       "    .dataframe thead th {\n",
       "        text-align: right;\n",
       "    }\n",
       "</style>\n",
       "<table border=\"1\" class=\"dataframe\">\n",
       "  <thead>\n",
       "    <tr style=\"text-align: right;\">\n",
       "      <th></th>\n",
       "      <th>mean</th>\n",
       "      <th>diff</th>\n",
       "      <th>rate</th>\n",
       "    </tr>\n",
       "    <tr>\n",
       "      <th>contract</th>\n",
       "      <th></th>\n",
       "      <th></th>\n",
       "      <th></th>\n",
       "    </tr>\n",
       "  </thead>\n",
       "  <tbody>\n",
       "    <tr>\n",
       "      <th>month-to-month</th>\n",
       "      <td>0.431701</td>\n",
       "      <td>0.161733</td>\n",
       "      <td>1.599082</td>\n",
       "    </tr>\n",
       "    <tr>\n",
       "      <th>one_year</th>\n",
       "      <td>0.120573</td>\n",
       "      <td>-0.149395</td>\n",
       "      <td>0.446621</td>\n",
       "    </tr>\n",
       "    <tr>\n",
       "      <th>two_year</th>\n",
       "      <td>0.028274</td>\n",
       "      <td>-0.241694</td>\n",
       "      <td>0.104730</td>\n",
       "    </tr>\n",
       "  </tbody>\n",
       "</table>\n",
       "</div>"
      ],
      "text/plain": [
       "                    mean      diff      rate\n",
       "contract                                    \n",
       "month-to-month  0.431701  0.161733  1.599082\n",
       "one_year        0.120573 -0.149395  0.446621\n",
       "two_year        0.028274 -0.241694  0.104730"
      ]
     },
     "metadata": {},
     "output_type": "display_data"
    },
    {
     "data": {
      "text/html": [
       "<div>\n",
       "<style scoped>\n",
       "    .dataframe tbody tr th:only-of-type {\n",
       "        vertical-align: middle;\n",
       "    }\n",
       "\n",
       "    .dataframe tbody tr th {\n",
       "        vertical-align: top;\n",
       "    }\n",
       "\n",
       "    .dataframe thead th {\n",
       "        text-align: right;\n",
       "    }\n",
       "</style>\n",
       "<table border=\"1\" class=\"dataframe\">\n",
       "  <thead>\n",
       "    <tr style=\"text-align: right;\">\n",
       "      <th></th>\n",
       "      <th>mean</th>\n",
       "      <th>diff</th>\n",
       "      <th>rate</th>\n",
       "    </tr>\n",
       "    <tr>\n",
       "      <th>paperlessbilling</th>\n",
       "      <th></th>\n",
       "      <th></th>\n",
       "      <th></th>\n",
       "    </tr>\n",
       "  </thead>\n",
       "  <tbody>\n",
       "    <tr>\n",
       "      <th>no</th>\n",
       "      <td>0.172071</td>\n",
       "      <td>-0.097897</td>\n",
       "      <td>0.637375</td>\n",
       "    </tr>\n",
       "    <tr>\n",
       "      <th>yes</th>\n",
       "      <td>0.338151</td>\n",
       "      <td>0.068183</td>\n",
       "      <td>1.252560</td>\n",
       "    </tr>\n",
       "  </tbody>\n",
       "</table>\n",
       "</div>"
      ],
      "text/plain": [
       "                      mean      diff      rate\n",
       "paperlessbilling                              \n",
       "no                0.172071 -0.097897  0.637375\n",
       "yes               0.338151  0.068183  1.252560"
      ]
     },
     "metadata": {},
     "output_type": "display_data"
    },
    {
     "data": {
      "text/html": [
       "<div>\n",
       "<style scoped>\n",
       "    .dataframe tbody tr th:only-of-type {\n",
       "        vertical-align: middle;\n",
       "    }\n",
       "\n",
       "    .dataframe tbody tr th {\n",
       "        vertical-align: top;\n",
       "    }\n",
       "\n",
       "    .dataframe thead th {\n",
       "        text-align: right;\n",
       "    }\n",
       "</style>\n",
       "<table border=\"1\" class=\"dataframe\">\n",
       "  <thead>\n",
       "    <tr style=\"text-align: right;\">\n",
       "      <th></th>\n",
       "      <th>mean</th>\n",
       "      <th>diff</th>\n",
       "      <th>rate</th>\n",
       "    </tr>\n",
       "    <tr>\n",
       "      <th>paymentmethod</th>\n",
       "      <th></th>\n",
       "      <th></th>\n",
       "      <th></th>\n",
       "    </tr>\n",
       "  </thead>\n",
       "  <tbody>\n",
       "    <tr>\n",
       "      <th>bank_transfer_(automatic)</th>\n",
       "      <td>0.168171</td>\n",
       "      <td>-0.101797</td>\n",
       "      <td>0.622928</td>\n",
       "    </tr>\n",
       "    <tr>\n",
       "      <th>credit_card_(automatic)</th>\n",
       "      <td>0.164339</td>\n",
       "      <td>-0.105630</td>\n",
       "      <td>0.608733</td>\n",
       "    </tr>\n",
       "    <tr>\n",
       "      <th>electronic_check</th>\n",
       "      <td>0.455890</td>\n",
       "      <td>0.185922</td>\n",
       "      <td>1.688682</td>\n",
       "    </tr>\n",
       "    <tr>\n",
       "      <th>mailed_check</th>\n",
       "      <td>0.193870</td>\n",
       "      <td>-0.076098</td>\n",
       "      <td>0.718121</td>\n",
       "    </tr>\n",
       "  </tbody>\n",
       "</table>\n",
       "</div>"
      ],
      "text/plain": [
       "                               mean      diff      rate\n",
       "paymentmethod                                          \n",
       "bank_transfer_(automatic)  0.168171 -0.101797  0.622928\n",
       "credit_card_(automatic)    0.164339 -0.105630  0.608733\n",
       "electronic_check           0.455890  0.185922  1.688682\n",
       "mailed_check               0.193870 -0.076098  0.718121"
      ]
     },
     "metadata": {},
     "output_type": "display_data"
    }
   ],
   "source": [
    "# цикл по категориальным переменным\n",
    "\n",
    "for col in categorical:\n",
    "    df_group = df_train_full.groupby(by=col).churn.agg(['mean'])  # группировка по значениям категориальной переменной\n",
    "    df_group['diff'] = df_group['mean'] - global_mean             # создание столбца для оценки разницы с глобальным оттоком\n",
    "    df_group['rate'] = df_group['mean'] / global_mean             # создание столбца для оценки коэффициента риска\n",
    "    display(df_group)"
   ]
  },
  {
   "cell_type": "markdown",
   "id": "b2c148de",
   "metadata": {},
   "source": [
    "Важными признаками получились: seniorsitizen, partner, dependents, internetservice, onlinesecurity, onlinebackup, deviceprotection, techsupport, contract, paperlessbilling."
   ]
  },
  {
   "cell_type": "markdown",
   "id": "32dd1acb",
   "metadata": {},
   "source": [
    "### 3.1.2. Взаимная информация"
   ]
  },
  {
   "cell_type": "markdown",
   "id": "61d325a5",
   "metadata": {},
   "source": [
    "Взаимная информация показывает сколько информации мы узнаем об одной переменной, если знаем значение другой."
   ]
  },
  {
   "cell_type": "code",
   "execution_count": 23,
   "id": "46c07528",
   "metadata": {},
   "outputs": [],
   "source": [
    "# используем функцию mutual_info_score из пакета metrics в sklearn\n",
    "\n",
    "from sklearn.metrics import mutual_info_score"
   ]
  },
  {
   "cell_type": "code",
   "execution_count": 24,
   "id": "46fdf87f",
   "metadata": {},
   "outputs": [],
   "source": [
    "# дополнительная функция для удобства использования\n",
    "\n",
    "def calculate_mi(series):\n",
    "    return mutual_info_score(series, df_train_full.churn)"
   ]
  },
  {
   "cell_type": "code",
   "execution_count": 25,
   "id": "e5349c5c",
   "metadata": {},
   "outputs": [],
   "source": [
    "# считаем mutual_info_score для всех категориальных переменных и создаем датафрейм с результатами\n",
    "\n",
    "df_mi = df_train_full[categorical].apply(calculate_mi)\n",
    "df_mi = df_mi.sort_values(ascending=False).to_frame(name='MI')"
   ]
  },
  {
   "cell_type": "code",
   "execution_count": 26,
   "id": "1db6ec87",
   "metadata": {},
   "outputs": [
    {
     "data": {
      "text/html": [
       "<div>\n",
       "<style scoped>\n",
       "    .dataframe tbody tr th:only-of-type {\n",
       "        vertical-align: middle;\n",
       "    }\n",
       "\n",
       "    .dataframe tbody tr th {\n",
       "        vertical-align: top;\n",
       "    }\n",
       "\n",
       "    .dataframe thead th {\n",
       "        text-align: right;\n",
       "    }\n",
       "</style>\n",
       "<table border=\"1\" class=\"dataframe\">\n",
       "  <thead>\n",
       "    <tr style=\"text-align: right;\">\n",
       "      <th></th>\n",
       "      <th>MI</th>\n",
       "    </tr>\n",
       "  </thead>\n",
       "  <tbody>\n",
       "    <tr>\n",
       "      <th>contract</th>\n",
       "      <td>0.098320</td>\n",
       "    </tr>\n",
       "    <tr>\n",
       "      <th>onlinesecurity</th>\n",
       "      <td>0.063085</td>\n",
       "    </tr>\n",
       "    <tr>\n",
       "      <th>techsupport</th>\n",
       "      <td>0.061032</td>\n",
       "    </tr>\n",
       "    <tr>\n",
       "      <th>internetservice</th>\n",
       "      <td>0.055868</td>\n",
       "    </tr>\n",
       "    <tr>\n",
       "      <th>onlinebackup</th>\n",
       "      <td>0.046923</td>\n",
       "    </tr>\n",
       "    <tr>\n",
       "      <th>deviceprotection</th>\n",
       "      <td>0.043453</td>\n",
       "    </tr>\n",
       "    <tr>\n",
       "      <th>paymentmethod</th>\n",
       "      <td>0.043210</td>\n",
       "    </tr>\n",
       "    <tr>\n",
       "      <th>streamingtv</th>\n",
       "      <td>0.031853</td>\n",
       "    </tr>\n",
       "    <tr>\n",
       "      <th>streamingmovies</th>\n",
       "      <td>0.031581</td>\n",
       "    </tr>\n",
       "    <tr>\n",
       "      <th>paperlessbilling</th>\n",
       "      <td>0.017589</td>\n",
       "    </tr>\n",
       "    <tr>\n",
       "      <th>dependents</th>\n",
       "      <td>0.012346</td>\n",
       "    </tr>\n",
       "    <tr>\n",
       "      <th>partner</th>\n",
       "      <td>0.009968</td>\n",
       "    </tr>\n",
       "    <tr>\n",
       "      <th>seniorcitizen</th>\n",
       "      <td>0.009410</td>\n",
       "    </tr>\n",
       "    <tr>\n",
       "      <th>multiplelines</th>\n",
       "      <td>0.000857</td>\n",
       "    </tr>\n",
       "    <tr>\n",
       "      <th>phoneservice</th>\n",
       "      <td>0.000229</td>\n",
       "    </tr>\n",
       "    <tr>\n",
       "      <th>gender</th>\n",
       "      <td>0.000117</td>\n",
       "    </tr>\n",
       "  </tbody>\n",
       "</table>\n",
       "</div>"
      ],
      "text/plain": [
       "                        MI\n",
       "contract          0.098320\n",
       "onlinesecurity    0.063085\n",
       "techsupport       0.061032\n",
       "internetservice   0.055868\n",
       "onlinebackup      0.046923\n",
       "deviceprotection  0.043453\n",
       "paymentmethod     0.043210\n",
       "streamingtv       0.031853\n",
       "streamingmovies   0.031581\n",
       "paperlessbilling  0.017589\n",
       "dependents        0.012346\n",
       "partner           0.009968\n",
       "seniorcitizen     0.009410\n",
       "multiplelines     0.000857\n",
       "phoneservice      0.000229\n",
       "gender            0.000117"
      ]
     },
     "execution_count": 26,
     "metadata": {},
     "output_type": "execute_result"
    }
   ],
   "source": [
    "# чем больше коэффициент, тем более важным является признак\n",
    "\n",
    "df_mi"
   ]
  },
  {
   "cell_type": "markdown",
   "id": "5d7bb56f",
   "metadata": {},
   "source": [
    "### 3.1.3. Коэффициент корреляции"
   ]
  },
  {
   "cell_type": "markdown",
   "id": "c7e72ce0",
   "metadata": {},
   "source": [
    "Проанализируем важность числовых признаков, оценив коэффициент корреляции с целевой переменной."
   ]
  },
  {
   "cell_type": "code",
   "execution_count": 27,
   "id": "4c138377",
   "metadata": {},
   "outputs": [
    {
     "data": {
      "text/plain": [
       "tenure           -0.351885\n",
       "monthlycharges    0.196805\n",
       "totalcharges     -0.196353\n",
       "dtype: float64"
      ]
     },
     "execution_count": 27,
     "metadata": {},
     "output_type": "execute_result"
    }
   ],
   "source": [
    "# рассчет коэффициента корреляции\n",
    "\n",
    "df_train_full[numerical].corrwith(df_train_full.churn)"
   ]
  },
  {
   "cell_type": "markdown",
   "id": "f09aff68",
   "metadata": {},
   "source": [
    "Tenure (срок контракта) имеет высокую отрицательную корреляцию. Monthlycharges (ежемесячные платежи) имеет положительную корреляцию."
   ]
  },
  {
   "cell_type": "markdown",
   "id": "6db49a35",
   "metadata": {},
   "source": [
    "Анализ важности признаков нужен для исключения неважных или маловажных признаков из модели, особенно, если признаков действительно много. Однако, в этот раз я решил использоваль для построения модели все признаки. "
   ]
  },
  {
   "cell_type": "markdown",
   "id": "c4e1031d",
   "metadata": {},
   "source": [
    "## 4. Конструирование признаков"
   ]
  },
  {
   "cell_type": "markdown",
   "id": "ffc31ff4",
   "metadata": {},
   "source": [
    "Преобразуем все категориальные признаки в числовые с помощью DictVectorizer из библиотеки sklearn."
   ]
  },
  {
   "cell_type": "code",
   "execution_count": 28,
   "id": "aa044072",
   "metadata": {},
   "outputs": [],
   "source": [
    "# преобразуем датафрейм df_train в список словарей\n",
    "\n",
    "train_dict = df_train[categorical + numerical].to_dict(orient='records')"
   ]
  },
  {
   "cell_type": "code",
   "execution_count": 29,
   "id": "aaffd67f",
   "metadata": {},
   "outputs": [],
   "source": [
    "# импорт DictVectorizer\n",
    "\n",
    "from sklearn.feature_extraction import DictVectorizer"
   ]
  },
  {
   "cell_type": "code",
   "execution_count": 30,
   "id": "0a6e2d65",
   "metadata": {},
   "outputs": [
    {
     "data": {
      "text/plain": [
       "DictVectorizer(sparse=False)"
      ]
     },
     "execution_count": 30,
     "metadata": {},
     "output_type": "execute_result"
    }
   ],
   "source": [
    "# создание экземпляра DictVectorizer и обучение на train_dict\n",
    "\n",
    "dv = DictVectorizer(sparse=False)        # sparse=False для создания массива NumPy\n",
    "dv.fit(train_dict)"
   ]
  },
  {
   "cell_type": "code",
   "execution_count": 31,
   "id": "13961c82",
   "metadata": {},
   "outputs": [],
   "source": [
    "# преобразуем train_dict в матрицу\n",
    "\n",
    "X_train = dv.transform(train_dict)"
   ]
  },
  {
   "cell_type": "code",
   "execution_count": 32,
   "id": "394611a5",
   "metadata": {},
   "outputs": [
    {
     "data": {
      "text/plain": [
       "array(['contract=month-to-month', 'contract=one_year',\n",
       "       'contract=two_year', 'dependents=no', 'dependents=yes',\n",
       "       'deviceprotection=no', 'deviceprotection=no_internet_service',\n",
       "       'deviceprotection=yes', 'gender=female', 'gender=male',\n",
       "       'internetservice=dsl', 'internetservice=fiber_optic',\n",
       "       'internetservice=no', 'monthlycharges', 'multiplelines=no',\n",
       "       'multiplelines=no_phone_service', 'multiplelines=yes',\n",
       "       'onlinebackup=no', 'onlinebackup=no_internet_service',\n",
       "       'onlinebackup=yes', 'onlinesecurity=no',\n",
       "       'onlinesecurity=no_internet_service', 'onlinesecurity=yes',\n",
       "       'paperlessbilling=no', 'paperlessbilling=yes', 'partner=no',\n",
       "       'partner=yes', 'paymentmethod=bank_transfer_(automatic)',\n",
       "       'paymentmethod=credit_card_(automatic)',\n",
       "       'paymentmethod=electronic_check', 'paymentmethod=mailed_check',\n",
       "       'phoneservice=no', 'phoneservice=yes', 'seniorcitizen',\n",
       "       'streamingmovies=no', 'streamingmovies=no_internet_service',\n",
       "       'streamingmovies=yes', 'streamingtv=no',\n",
       "       'streamingtv=no_internet_service', 'streamingtv=yes',\n",
       "       'techsupport=no', 'techsupport=no_internet_service',\n",
       "       'techsupport=yes', 'tenure', 'totalcharges'], dtype=object)"
      ]
     },
     "execution_count": 32,
     "metadata": {},
     "output_type": "execute_result"
    }
   ],
   "source": [
    "# имена будущих столбцов\n",
    "\n",
    "dv.get_feature_names_out()"
   ]
  },
  {
   "cell_type": "markdown",
   "id": "f7c3a6c0",
   "metadata": {},
   "source": [
    "## 5. Логистическая регрессия"
   ]
  },
  {
   "cell_type": "code",
   "execution_count": 33,
   "id": "e70d2047",
   "metadata": {},
   "outputs": [],
   "source": [
    "# импорт модели\n",
    "\n",
    "from sklearn.linear_model import LogisticRegression"
   ]
  },
  {
   "cell_type": "code",
   "execution_count": 34,
   "id": "088874bb",
   "metadata": {},
   "outputs": [
    {
     "data": {
      "text/plain": [
       "LogisticRegression(random_state=1, solver='liblinear')"
      ]
     },
     "execution_count": 34,
     "metadata": {},
     "output_type": "execute_result"
    }
   ],
   "source": [
    "# создание и обучение модели\n",
    "\n",
    "model = LogisticRegression(solver='liblinear', random_state=1)\n",
    "model.fit(X_train, y_train)"
   ]
  },
  {
   "cell_type": "code",
   "execution_count": 35,
   "id": "533ea6b2",
   "metadata": {},
   "outputs": [],
   "source": [
    "# векторизация признаков в датафрейме df_val\n",
    "\n",
    "val_dict = df_val[categorical + numerical].to_dict(orient='records')\n",
    "X_val = dv.transform(val_dict)"
   ]
  },
  {
   "cell_type": "code",
   "execution_count": 36,
   "id": "0ea5815c",
   "metadata": {},
   "outputs": [],
   "source": [
    "# получение предсказания вероятностей для проверочного набора данных\n",
    "\n",
    "y_pred_val = model.predict_proba(X_val)[:, 1]     # так как (вероятность оттока + вероятность отсутствия оттока) = 1, то достаточно одного столбца "
   ]
  },
  {
   "cell_type": "markdown",
   "id": "51bf084d",
   "metadata": {},
   "source": [
    "Полученные данные являются *мягкими* прогнозами. Для получения *твердых* прогнозов вида True/False (отток/отсутствие оттока) необходимо определиться с порогом вероятности, выше которого мы будем считать отток достоверным. Либо перевести мягкие прогнозы в твердые для нескольких пороговых значений и сравнить полученные результаты.\n",
    "Остановимся сперва на первом методе и выберем 0,5 в качестве порога. "
   ]
  },
  {
   "cell_type": "code",
   "execution_count": 37,
   "id": "f2ac4125",
   "metadata": {},
   "outputs": [],
   "source": [
    "# записываем результаты сравнения предсказанных вероятностей с выбранным порогом 0,5 в переменныю churn_val\n",
    "\n",
    "churn_val = y_pred_val >= 0.5"
   ]
  },
  {
   "cell_type": "code",
   "execution_count": 38,
   "id": "bfc7bc28",
   "metadata": {},
   "outputs": [
    {
     "data": {
      "text/plain": [
       "0.8016129032258065"
      ]
     },
     "execution_count": 38,
     "metadata": {},
     "output_type": "execute_result"
    }
   ],
   "source": [
    "# оценка достоверности предсказания. сравнение предсказанного оттока с реальным в проверочном наборе\n",
    "\n",
    "(y_val == churn_val).mean()"
   ]
  },
  {
   "cell_type": "markdown",
   "id": "b5f35246",
   "metadata": {},
   "source": [
    "Текущая модель делает правильные предсказания в 80% случаев. "
   ]
  },
  {
   "cell_type": "markdown",
   "id": "48c00a00",
   "metadata": {},
   "source": [
    "Теперь проверим достоверность для других пороговых значений. Используем для этого accuracy_score из sklearn."
   ]
  },
  {
   "cell_type": "code",
   "execution_count": 39,
   "id": "201d6641",
   "metadata": {},
   "outputs": [],
   "source": [
    "# импорт  accuracy_score\n",
    "\n",
    "from sklearn.metrics import accuracy_score"
   ]
  },
  {
   "cell_type": "code",
   "execution_count": 40,
   "id": "e569c23c",
   "metadata": {},
   "outputs": [
    {
     "data": {
      "text/plain": [
       "array([0. , 0.1, 0.2, 0.3, 0.4, 0.5, 0.6, 0.7, 0.8, 0.9, 1. ])"
      ]
     },
     "execution_count": 40,
     "metadata": {},
     "output_type": "execute_result"
    }
   ],
   "source": [
    "# обозначим пороговые значения\n",
    "\n",
    "thresholds = np.linspace(0, 1, 11)\n",
    "thresholds"
   ]
  },
  {
   "cell_type": "code",
   "execution_count": 41,
   "id": "ddc7cd0e",
   "metadata": {},
   "outputs": [
    {
     "name": "stdout",
     "output_type": "stream",
     "text": [
      "0.0   0.261\n",
      "0.1   0.595\n",
      "0.2   0.690\n",
      "0.3   0.755\n",
      "0.4   0.782\n",
      "0.5   0.802\n",
      "0.6   0.790\n",
      "0.7   0.774\n",
      "0.8   0.742\n",
      "0.9   0.739\n",
      "1.0   0.739\n"
     ]
    }
   ],
   "source": [
    "# вычислим accuracy_score для каждого порогового значения\n",
    "\n",
    "accuracies = []                            # соберем все значения accuracy_score для построения графика\n",
    "for t in thresholds:\n",
    "    churn = y_pred_val >= t\n",
    "    acc = accuracy_score(y_val, churn)\n",
    "    accuracies.append(acc)\n",
    "    print('%0.1f   %0.3f' % (t, acc))"
   ]
  },
  {
   "cell_type": "code",
   "execution_count": 42,
   "id": "057684bc",
   "metadata": {},
   "outputs": [
    {
     "data": {
      "text/plain": [
       "([<matplotlib.axis.XTick at 0x18a7d2c6a60>,\n",
       "  <matplotlib.axis.XTick at 0x18a7d2c6a30>,\n",
       "  <matplotlib.axis.XTick at 0x18a7d2c60d0>,\n",
       "  <matplotlib.axis.XTick at 0x18a7d059640>,\n",
       "  <matplotlib.axis.XTick at 0x18a7d059d90>,\n",
       "  <matplotlib.axis.XTick at 0x18a7d06b520>,\n",
       "  <matplotlib.axis.XTick at 0x18a7d059b20>,\n",
       "  <matplotlib.axis.XTick at 0x18a7d06b0a0>,\n",
       "  <matplotlib.axis.XTick at 0x18a7d0732e0>,\n",
       "  <matplotlib.axis.XTick at 0x18a7d073a30>,\n",
       "  <matplotlib.axis.XTick at 0x18a7d0781c0>],\n",
       " [Text(0, 0, ''),\n",
       "  Text(0, 0, ''),\n",
       "  Text(0, 0, ''),\n",
       "  Text(0, 0, ''),\n",
       "  Text(0, 0, ''),\n",
       "  Text(0, 0, ''),\n",
       "  Text(0, 0, ''),\n",
       "  Text(0, 0, ''),\n",
       "  Text(0, 0, ''),\n",
       "  Text(0, 0, ''),\n",
       "  Text(0, 0, '')])"
      ]
     },
     "execution_count": 42,
     "metadata": {},
     "output_type": "execute_result"
    },
    {
     "data": {
      "image/png": "[encoded data removed]",
      "text/plain": [
       "<Figure size 640x480 with 1 Axes>"
      ]
     },
     "metadata": {},
     "output_type": "display_data"
    }
   ],
   "source": [
    "# график accuracy_score\n",
    "\n",
    "plt.plot(thresholds, accuracies)\n",
    "plt.xlabel('Порог (threshold)')\n",
    "plt.ylabel('Достоверность (accuracy score)')\n",
    "plt.grid(True)                                      # сетка\n",
    "plt.xticks(thresholds)                              # отметки на оси х"
   ]
  },
  {
   "cell_type": "markdown",
   "id": "6faf2e3a",
   "metadata": {},
   "source": [
    "Лучший порог - 0,5, лучшая достоверность - 80%."
   ]
  },
  {
   "cell_type": "markdown",
   "id": "928c3081",
   "metadata": {},
   "source": [
    "Далее оценим хороший ли это показатель."
   ]
  },
  {
   "cell_type": "markdown",
   "id": "8bad6ced",
   "metadata": {},
   "source": [
    "## 6. Оценка модели"
   ]
  },
  {
   "cell_type": "markdown",
   "id": "6ff3f8f2",
   "metadata": {},
   "source": [
    "### 6.1. Построение фиктивной модели"
   ]
  },
  {
   "cell_type": "markdown",
   "id": "eeb46150",
   "metadata": {},
   "source": [
    "Для сравнения нашей модели построим фиктивную/базовую модель, которая, независимо от признаков, всегда будет предсказывать класс большинства (в несбалансированном наборе данных как у нас) - \"оттока нет\"."
   ]
  },
  {
   "cell_type": "code",
   "execution_count": 43,
   "id": "c844cee7",
   "metadata": {},
   "outputs": [],
   "source": [
    "# создание базовой модели - массив длиной y_val, заполненный False (оттока нет)\n",
    "\n",
    "baseline = np.repeat(False, len(y_val))"
   ]
  },
  {
   "cell_type": "code",
   "execution_count": 44,
   "id": "f16d6a2a",
   "metadata": {},
   "outputs": [
    {
     "data": {
      "text/plain": [
       "0.7387096774193549"
      ]
     },
     "execution_count": 44,
     "metadata": {},
     "output_type": "execute_result"
    }
   ],
   "source": [
    "# вычислим достоверность базовой модели\n",
    "\n",
    "accuracy_score(baseline, y_val)"
   ]
  },
  {
   "cell_type": "markdown",
   "id": "0e6c54e6",
   "metadata": {},
   "source": [
    "Достоверность фиктивной/базовой модели составила ~73,9%."
   ]
  },
  {
   "cell_type": "markdown",
   "id": "21817c2c",
   "metadata": {},
   "source": [
    "### 6.2. Матрица ошибок"
   ]
  },
  {
   "cell_type": "markdown",
   "id": "cfe3bfc9",
   "metadata": {},
   "source": [
    "Сперва самостоятельно вычислим матрицу ошибок (для понтов)."
   ]
  },
  {
   "cell_type": "code",
   "execution_count": 45,
   "id": "ba211f0e",
   "metadata": {},
   "outputs": [],
   "source": [
    "# напишем функцию для вычисления матрицы ошибок\n",
    "\n",
    "def conf_mtrx(y_true, y_pred, t):\n",
    "    predict_churn = (y_pred >= t)             # количество прогнозов \"отток\"\n",
    "    predict_no_churn = (y_pred < t)           # количество прогнозов \"нет оттока\"\n",
    "    \n",
    "    actual_curn = (y_true == 1)               # количество реальных показателей \"отток\"\n",
    "    actual_no_curn = (y_true == 0)            # количество реальных показателей \"нет оттока\"\n",
    "    \n",
    "    true_positive = (predict_churn & actual_curn).sum()              # поэлементное сравнение и подсчет совпадений \n",
    "    false_positive = (predict_churn & actual_no_curn).sum()\n",
    "    \n",
    "    false_negative = (predict_no_churn & actual_curn).sum()\n",
    "    true_negative = (predict_no_churn & actual_no_curn).sum()\n",
    "    \n",
    "    confusion_table = np.array([[true_negative, false_positive],\n",
    "                                [false_negative, true_positive]])     # формирование матрицы ошибок в абсолютных значениях\n",
    "    confusion_table_rates = confusion_table / confusion_table.sum()   # матрица ошибок в долях\n",
    "    \n",
    "    return confusion_table, confusion_table_rates.round(3)"
   ]
  },
  {
   "cell_type": "code",
   "execution_count": 46,
   "id": "d7553678",
   "metadata": {},
   "outputs": [
    {
     "data": {
      "text/plain": [
       "(array([[1202,  172],\n",
       "        [ 197,  289]]),\n",
       " array([[0.646, 0.092],\n",
       "        [0.106, 0.155]]))"
      ]
     },
     "execution_count": 46,
     "metadata": {},
     "output_type": "execute_result"
    }
   ],
   "source": [
    "# вычисление матрицы ошибок для модели логистической регрессии\n",
    "\n",
    "conf_mtrx(y_val, y_pred_val, 0.5)"
   ]
  },
  {
   "cell_type": "code",
   "execution_count": 47,
   "id": "5323db71",
   "metadata": {},
   "outputs": [
    {
     "data": {
      "text/plain": [
       "(array([[1374,    0],\n",
       "        [ 486,    0]]),\n",
       " array([[0.739, 0.   ],\n",
       "        [0.261, 0.   ]]))"
      ]
     },
     "execution_count": 47,
     "metadata": {},
     "output_type": "execute_result"
    }
   ],
   "source": [
    "# вычисление матрицы ошибок для фиктивной/базовой модели\n",
    "\n",
    "conf_mtrx(y_val, baseline, 1)"
   ]
  },
  {
   "cell_type": "markdown",
   "id": "8a201b4a",
   "metadata": {},
   "source": [
    "Так как базовая модель для всех случаев предсказывает \"оттока нет\" (False), то у нее нет истинно положительных (ТР) и ложноположительных (FP) предсказаний."
   ]
  },
  {
   "cell_type": "markdown",
   "id": "dfca3f41",
   "metadata": {},
   "source": [
    "Вычислим матрицу ошибок с помощью sklearn"
   ]
  },
  {
   "cell_type": "code",
   "execution_count": 48,
   "id": "478f47ea",
   "metadata": {},
   "outputs": [],
   "source": [
    "# импорт метрики\n",
    "\n",
    "from sklearn.metrics import confusion_matrix"
   ]
  },
  {
   "cell_type": "code",
   "execution_count": 49,
   "id": "01cf46be",
   "metadata": {},
   "outputs": [
    {
     "name": "stdout",
     "output_type": "stream",
     "text": [
      "[[1202  172]\n",
      " [ 197  289]]\n",
      "[[0.646 0.092]\n",
      " [0.106 0.155]]\n"
     ]
    }
   ],
   "source": [
    "# вычисление матрицы ошибок для модели логистической регрессии\n",
    "\n",
    "print(confusion_matrix(y_val, churn_val))                               # абсолютные значения\n",
    "\n",
    "print(confusion_matrix(y_val, churn_val, normalize = 'all').round(3))   # относительные значения"
   ]
  },
  {
   "cell_type": "code",
   "execution_count": 50,
   "id": "a1136dee",
   "metadata": {},
   "outputs": [
    {
     "name": "stdout",
     "output_type": "stream",
     "text": [
      "[[1374    0]\n",
      " [ 486    0]]\n",
      "[[0.739 0.   ]\n",
      " [0.261 0.   ]]\n"
     ]
    }
   ],
   "source": [
    "# вычисление матрицы ошибок для фиктивной/базовой модели\n",
    "\n",
    "print(confusion_matrix(y_val, baseline))\n",
    "\n",
    "print(confusion_matrix(y_val, baseline, normalize = 'all').round(3))"
   ]
  },
  {
   "cell_type": "markdown",
   "id": "a7dbc85b",
   "metadata": {},
   "source": [
    "Значения, подсчитанные самостоятельно и с помощью sklearn, совпадают. Замечательно.  \n",
    "Модель логистической регрессии довольно хорошо прогнозирует отсутствие оттока (64,6%), но допускает много ложноположительных (9,2%) и ложноотрицательных (10,6%) прогнозов (суммарно 19,8%).  \n",
    "Базовая модель допускает 26,1% ложноотрицательных прогнозов."
   ]
  },
  {
   "cell_type": "markdown",
   "id": "2916b63e",
   "metadata": {},
   "source": [
    "### 6.3. Точность (precision) и отклик (recall)"
   ]
  },
  {
   "cell_type": "markdown",
   "id": "2ac7fa54",
   "metadata": {},
   "source": [
    "Посчитаем дополнительные метрики.  \n",
    "Точность (precision): $$ P = TP / (TP + FP) ,$$\n",
    "где $ TP $ - истинно положительные прогнозы, $ FP $ - ложноположительные прогнозы.  \n",
    "\n",
    "Отклик (recall): $$ TP / (TP + FN) ,$$\n",
    "где $ TP $ - истинно положительные прогнозы, $ FN $ - ложноотрицательные прогнозы."
   ]
  },
  {
   "cell_type": "code",
   "execution_count": 51,
   "id": "12729437",
   "metadata": {},
   "outputs": [],
   "source": [
    "# функция для нахождения точности и отклика\n",
    "\n",
    "def precision_recall(y_true, y_pred, t):\n",
    "    predict_churn = (y_pred >= t)             # количество прогнозов \"отток\"\n",
    "    predict_no_churn = (y_pred < t)           # количество прогнозов \"нет оттока\"\n",
    "    \n",
    "    actual_curn = (y_true == 1)               # количество реальных показателей \"отток\"\n",
    "    actual_no_curn = (y_true == 0)            # количество реальных показателей \"нет оттока\"\n",
    "    \n",
    "    true_positive = (predict_churn & actual_curn).sum()              # поэлементное сравнение и подсчет совпадений \n",
    "    false_positive = (predict_churn & actual_no_curn).sum()\n",
    "    \n",
    "    false_negative = (predict_no_churn & actual_curn).sum()\n",
    "#    true_negative = (predict_no_churn & actual_no_curn).sum() \n",
    "    \n",
    "    precision = true_positive / (true_positive + false_positive)\n",
    "    recall = true_positive / (true_positive + false_negative)\n",
    "    \n",
    "    return precision.round(3), recall.round(3)"
   ]
  },
  {
   "cell_type": "code",
   "execution_count": 52,
   "id": "4e512ce6",
   "metadata": {},
   "outputs": [
    {
     "data": {
      "text/plain": [
       "(0.627, 0.595)"
      ]
     },
     "execution_count": 52,
     "metadata": {},
     "output_type": "execute_result"
    }
   ],
   "source": [
    "precision_recall(y_val, y_pred_val, 0.5)"
   ]
  },
  {
   "cell_type": "markdown",
   "id": "91eca887",
   "metadata": {},
   "source": [
    "Считать точность и отклик для базовой модели не имеет смысла, так как в одном случае получится неопределенность вида 0/0 (TP=0, FP=0), а в другом просто 0 (TP=0)."
   ]
  },
  {
   "cell_type": "code",
   "execution_count": 53,
   "id": "34a0a900",
   "metadata": {},
   "outputs": [],
   "source": [
    "# импорт метрики\n",
    "\n",
    "from sklearn.metrics import precision_score, recall_score"
   ]
  },
  {
   "cell_type": "code",
   "execution_count": 54,
   "id": "a523d742",
   "metadata": {},
   "outputs": [
    {
     "data": {
      "text/plain": [
       "0.627"
      ]
     },
     "execution_count": 54,
     "metadata": {},
     "output_type": "execute_result"
    }
   ],
   "source": [
    "precision_score(y_val, churn_val).round(3)"
   ]
  },
  {
   "cell_type": "code",
   "execution_count": 55,
   "id": "fd5a5b8d",
   "metadata": {},
   "outputs": [
    {
     "data": {
      "text/plain": [
       "0.595"
      ]
     },
     "execution_count": 55,
     "metadata": {},
     "output_type": "execute_result"
    }
   ],
   "source": [
    "recall_score(y_val, churn_val).round(3)"
   ]
  },
  {
   "cell_type": "markdown",
   "id": "42bf3c21",
   "metadata": {},
   "source": [
    "Результаты \"ручного\" расчета и расчета с помощью sklearn совпали.  \n",
    "Однако, точность и отклик были расчитаны для одного (лучшего) порогового значения - 0,5. "
   ]
  },
  {
   "cell_type": "markdown",
   "id": "5565f285",
   "metadata": {},
   "source": [
    "### 6.4. ROC и AUC"
   ]
  },
  {
   "cell_type": "markdown",
   "id": "7c9fbd04",
   "metadata": {},
   "source": [
    "Проведем оценку модели при нескольких пороговых значениях."
   ]
  },
  {
   "cell_type": "markdown",
   "id": "21f68db6",
   "metadata": {},
   "source": [
    "Рассчитаем метрики TPR (доля истинно положительных среди всех положительных) и FPR (доля ложноположительных среди всех отрицательных).\n",
    "$$ TPR = TP / (TP + FN) $$  \n",
    "$$ FPR = FP / (FP + TN) $$"
   ]
  },
  {
   "cell_type": "code",
   "execution_count": 56,
   "id": "36e44b8b",
   "metadata": {},
   "outputs": [],
   "source": [
    "# напишем функцию для рассчета матрицы ошибок и метрик TPR, FPR для всех новых порогов\n",
    "\n",
    "def calculate_tpr_fpr(y_true, y_pred):\n",
    "    scores = []                           # список для сбора результатов\n",
    "    thresholds = np.linspace(0, 1, 101)   # 100 новых порогов\n",
    "    \n",
    "    for t in thresholds:\n",
    "        tp = ((y_pred >= t) & (y_true == 1)).sum()         # истинноположительные (есть отток)\n",
    "        fp = ((y_pred >= t) & (y_true == 0)).sum()         # ложноположительные\n",
    "        fn = ((y_pred < t) & (y_true == 1)).sum()          # ложноотрицательные\n",
    "        tn = ((y_pred < t) & (y_true == 0)).sum()          # истинно отрицательные (оттока нет)\n",
    "        scores.append((t, tp, fp, fn, tn))                 # добавление результатов в список\n",
    "        \n",
    "    df_scores = pd.DataFrame(scores,\n",
    "                             columns=['threshold', 'TP', 'FP', 'FN', 'TN'])  # преобразуем полученные результаты в датафрейм\n",
    "    \n",
    "    df_scores['TPR'] = df_scores.TP / (df_scores.TP + df_scores.FN)          # расчет TPR\n",
    "    df_scores['FPR'] = df_scores.FP / (df_scores.FP + df_scores.TN)          # расчет FPR\n",
    "    \n",
    "    return df_scores"
   ]
  },
  {
   "cell_type": "code",
   "execution_count": 57,
   "id": "a3418330",
   "metadata": {},
   "outputs": [],
   "source": [
    "# рассчитаем TPR и FPR для модели логистической регрессии\n",
    "\n",
    "df_scores = calculate_tpr_fpr(y_val, y_pred_val)"
   ]
  },
  {
   "cell_type": "code",
   "execution_count": 58,
   "id": "c7e3033c",
   "metadata": {},
   "outputs": [
    {
     "data": {
      "text/plain": [
       "<matplotlib.legend.Legend at 0x18a7d3249a0>"
      ]
     },
     "execution_count": 58,
     "metadata": {},
     "output_type": "execute_result"
    },
    {
     "data": {
      "image/png": "[encoded data removed]",
      "text/plain": [
       "<Figure size 640x480 with 1 Axes>"
      ]
     },
     "metadata": {},
     "output_type": "display_data"
    }
   ],
   "source": [
    "# построение графика TPR и FPR\n",
    "\n",
    "plt.plot(df_scores.threshold, df_scores.TPR, label='TPR')\n",
    "plt.plot(df_scores.threshold, df_scores.FPR, label='FPR')\n",
    "plt.xlabel('Порог (threshold)')\n",
    "plt.legend()"
   ]
  },
  {
   "cell_type": "markdown",
   "id": "036630e8",
   "metadata": {},
   "source": [
    "В идеале FPR должен снижаться быстро, указывая на то, что модель делает мало ошибок (ложноположительных прогнозов). А TPR должен снижаться медленно, указывая то, что модель хорошо прогнозирует истинноположительные результаты."
   ]
  },
  {
   "cell_type": "markdown",
   "id": "38d333c7",
   "metadata": {},
   "source": [
    "Рассчитаем TPR и FPR для **случайной** базовой модели."
   ]
  },
  {
   "cell_type": "code",
   "execution_count": 59,
   "id": "fcad618f",
   "metadata": {},
   "outputs": [],
   "source": [
    "# генерируем массив с однородными случайными числами\n",
    "\n",
    "np.random.seed(1)                                  # фиксируем начальное значение для воспроизвадимости результатов\n",
    "y_rand = np.random.uniform(0, 1, size=len(y_val))"
   ]
  },
  {
   "cell_type": "code",
   "execution_count": 60,
   "id": "522f4de1",
   "metadata": {},
   "outputs": [],
   "source": [
    "df_rand = calculate_tpr_fpr(y_val, y_rand)"
   ]
  },
  {
   "cell_type": "code",
   "execution_count": 61,
   "id": "0b2631c4",
   "metadata": {},
   "outputs": [
    {
     "data": {
      "text/html": [
       "<div>\n",
       "<style scoped>\n",
       "    .dataframe tbody tr th:only-of-type {\n",
       "        vertical-align: middle;\n",
       "    }\n",
       "\n",
       "    .dataframe tbody tr th {\n",
       "        vertical-align: top;\n",
       "    }\n",
       "\n",
       "    .dataframe thead th {\n",
       "        text-align: right;\n",
       "    }\n",
       "</style>\n",
       "<table border=\"1\" class=\"dataframe\">\n",
       "  <thead>\n",
       "    <tr style=\"text-align: right;\">\n",
       "      <th></th>\n",
       "      <th>threshold</th>\n",
       "      <th>TP</th>\n",
       "      <th>FP</th>\n",
       "      <th>FN</th>\n",
       "      <th>TN</th>\n",
       "      <th>TPR</th>\n",
       "      <th>FPR</th>\n",
       "    </tr>\n",
       "  </thead>\n",
       "  <tbody>\n",
       "    <tr>\n",
       "      <th>0</th>\n",
       "      <td>0.0</td>\n",
       "      <td>486</td>\n",
       "      <td>1374</td>\n",
       "      <td>0</td>\n",
       "      <td>0</td>\n",
       "      <td>1.000000</td>\n",
       "      <td>1.000000</td>\n",
       "    </tr>\n",
       "    <tr>\n",
       "      <th>10</th>\n",
       "      <td>0.1</td>\n",
       "      <td>440</td>\n",
       "      <td>1236</td>\n",
       "      <td>46</td>\n",
       "      <td>138</td>\n",
       "      <td>0.905350</td>\n",
       "      <td>0.899563</td>\n",
       "    </tr>\n",
       "    <tr>\n",
       "      <th>20</th>\n",
       "      <td>0.2</td>\n",
       "      <td>392</td>\n",
       "      <td>1101</td>\n",
       "      <td>94</td>\n",
       "      <td>273</td>\n",
       "      <td>0.806584</td>\n",
       "      <td>0.801310</td>\n",
       "    </tr>\n",
       "    <tr>\n",
       "      <th>30</th>\n",
       "      <td>0.3</td>\n",
       "      <td>339</td>\n",
       "      <td>972</td>\n",
       "      <td>147</td>\n",
       "      <td>402</td>\n",
       "      <td>0.697531</td>\n",
       "      <td>0.707424</td>\n",
       "    </tr>\n",
       "    <tr>\n",
       "      <th>40</th>\n",
       "      <td>0.4</td>\n",
       "      <td>288</td>\n",
       "      <td>849</td>\n",
       "      <td>198</td>\n",
       "      <td>525</td>\n",
       "      <td>0.592593</td>\n",
       "      <td>0.617904</td>\n",
       "    </tr>\n",
       "    <tr>\n",
       "      <th>50</th>\n",
       "      <td>0.5</td>\n",
       "      <td>239</td>\n",
       "      <td>723</td>\n",
       "      <td>247</td>\n",
       "      <td>651</td>\n",
       "      <td>0.491770</td>\n",
       "      <td>0.526201</td>\n",
       "    </tr>\n",
       "    <tr>\n",
       "      <th>60</th>\n",
       "      <td>0.6</td>\n",
       "      <td>193</td>\n",
       "      <td>579</td>\n",
       "      <td>293</td>\n",
       "      <td>795</td>\n",
       "      <td>0.397119</td>\n",
       "      <td>0.421397</td>\n",
       "    </tr>\n",
       "    <tr>\n",
       "      <th>70</th>\n",
       "      <td>0.7</td>\n",
       "      <td>152</td>\n",
       "      <td>422</td>\n",
       "      <td>334</td>\n",
       "      <td>952</td>\n",
       "      <td>0.312757</td>\n",
       "      <td>0.307132</td>\n",
       "    </tr>\n",
       "    <tr>\n",
       "      <th>80</th>\n",
       "      <td>0.8</td>\n",
       "      <td>98</td>\n",
       "      <td>302</td>\n",
       "      <td>388</td>\n",
       "      <td>1072</td>\n",
       "      <td>0.201646</td>\n",
       "      <td>0.219796</td>\n",
       "    </tr>\n",
       "    <tr>\n",
       "      <th>90</th>\n",
       "      <td>0.9</td>\n",
       "      <td>57</td>\n",
       "      <td>147</td>\n",
       "      <td>429</td>\n",
       "      <td>1227</td>\n",
       "      <td>0.117284</td>\n",
       "      <td>0.106987</td>\n",
       "    </tr>\n",
       "    <tr>\n",
       "      <th>100</th>\n",
       "      <td>1.0</td>\n",
       "      <td>0</td>\n",
       "      <td>0</td>\n",
       "      <td>486</td>\n",
       "      <td>1374</td>\n",
       "      <td>0.000000</td>\n",
       "      <td>0.000000</td>\n",
       "    </tr>\n",
       "  </tbody>\n",
       "</table>\n",
       "</div>"
      ],
      "text/plain": [
       "     threshold   TP    FP   FN    TN       TPR       FPR\n",
       "0          0.0  486  1374    0     0  1.000000  1.000000\n",
       "10         0.1  440  1236   46   138  0.905350  0.899563\n",
       "20         0.2  392  1101   94   273  0.806584  0.801310\n",
       "30         0.3  339   972  147   402  0.697531  0.707424\n",
       "40         0.4  288   849  198   525  0.592593  0.617904\n",
       "50         0.5  239   723  247   651  0.491770  0.526201\n",
       "60         0.6  193   579  293   795  0.397119  0.421397\n",
       "70         0.7  152   422  334   952  0.312757  0.307132\n",
       "80         0.8   98   302  388  1072  0.201646  0.219796\n",
       "90         0.9   57   147  429  1227  0.117284  0.106987\n",
       "100        1.0    0     0  486  1374  0.000000  0.000000"
      ]
     },
     "execution_count": 61,
     "metadata": {},
     "output_type": "execute_result"
    }
   ],
   "source": [
    "# выведем каждую 10-ю строку датафрейма случайной базовой модели\n",
    "\n",
    "df_rand[::10]"
   ]
  },
  {
   "cell_type": "code",
   "execution_count": 62,
   "id": "19c00f82",
   "metadata": {},
   "outputs": [
    {
     "data": {
      "text/plain": [
       "<matplotlib.legend.Legend at 0x18a7d3ad880>"
      ]
     },
     "execution_count": 62,
     "metadata": {},
     "output_type": "execute_result"
    },
    {
     "data": {
      "image/png": "[encoded data removed]",
      "text/plain": [
       "<Figure size 640x480 with 1 Axes>"
      ]
     },
     "metadata": {},
     "output_type": "display_data"
    }
   ],
   "source": [
    "# график для случайной модели\n",
    "\n",
    "plt.plot(df_rand.threshold, df_rand.TPR, label='TPR')\n",
    "plt.plot(df_rand.threshold, df_rand.FPR, label='FPR')\n",
    "plt.xlabel('Порог (threshold)')\n",
    "plt.legend()"
   ]
  },
  {
   "cell_type": "markdown",
   "id": "af523f0e",
   "metadata": {},
   "source": [
    "Добавим для сравнения идеальную модель."
   ]
  },
  {
   "cell_type": "code",
   "execution_count": 63,
   "id": "942f4f3e",
   "metadata": {},
   "outputs": [],
   "source": [
    "# построение идеальной модели\n",
    "\n",
    "num_neg = (y_val == 0).sum()    # количество отрицательных значений (нет оттока)\n",
    "num_pos = (y_val == 1).sum()    # количество положительных значений (есть отток)\n",
    "\n",
    "y_ideal = np.repeat([0, 1], [num_neg, num_pos])     # генерируем массив аналогичный y_val, но сперва идут только 0, потом 1\n",
    "y_pred_ideal = np.linspace(0, 1, num_neg + num_pos) # прогноз идеальной модели: плавное повышение от 0 до 1"
   ]
  },
  {
   "cell_type": "code",
   "execution_count": 64,
   "id": "46a4c9b9",
   "metadata": {},
   "outputs": [],
   "source": [
    "# датафрейм с параметрами идеальной модели\n",
    "\n",
    "df_ideal = calculate_tpr_fpr(y_ideal, y_pred_ideal)"
   ]
  },
  {
   "cell_type": "code",
   "execution_count": 65,
   "id": "670067f0",
   "metadata": {},
   "outputs": [
    {
     "data": {
      "text/html": [
       "<div>\n",
       "<style scoped>\n",
       "    .dataframe tbody tr th:only-of-type {\n",
       "        vertical-align: middle;\n",
       "    }\n",
       "\n",
       "    .dataframe tbody tr th {\n",
       "        vertical-align: top;\n",
       "    }\n",
       "\n",
       "    .dataframe thead th {\n",
       "        text-align: right;\n",
       "    }\n",
       "</style>\n",
       "<table border=\"1\" class=\"dataframe\">\n",
       "  <thead>\n",
       "    <tr style=\"text-align: right;\">\n",
       "      <th></th>\n",
       "      <th>threshold</th>\n",
       "      <th>TP</th>\n",
       "      <th>FP</th>\n",
       "      <th>FN</th>\n",
       "      <th>TN</th>\n",
       "      <th>TPR</th>\n",
       "      <th>FPR</th>\n",
       "    </tr>\n",
       "  </thead>\n",
       "  <tbody>\n",
       "    <tr>\n",
       "      <th>0</th>\n",
       "      <td>0.0</td>\n",
       "      <td>486</td>\n",
       "      <td>1374</td>\n",
       "      <td>0</td>\n",
       "      <td>0</td>\n",
       "      <td>1.000000</td>\n",
       "      <td>1.000000</td>\n",
       "    </tr>\n",
       "    <tr>\n",
       "      <th>10</th>\n",
       "      <td>0.1</td>\n",
       "      <td>486</td>\n",
       "      <td>1188</td>\n",
       "      <td>0</td>\n",
       "      <td>186</td>\n",
       "      <td>1.000000</td>\n",
       "      <td>0.864629</td>\n",
       "    </tr>\n",
       "    <tr>\n",
       "      <th>20</th>\n",
       "      <td>0.2</td>\n",
       "      <td>486</td>\n",
       "      <td>1002</td>\n",
       "      <td>0</td>\n",
       "      <td>372</td>\n",
       "      <td>1.000000</td>\n",
       "      <td>0.729258</td>\n",
       "    </tr>\n",
       "    <tr>\n",
       "      <th>30</th>\n",
       "      <td>0.3</td>\n",
       "      <td>486</td>\n",
       "      <td>816</td>\n",
       "      <td>0</td>\n",
       "      <td>558</td>\n",
       "      <td>1.000000</td>\n",
       "      <td>0.593886</td>\n",
       "    </tr>\n",
       "    <tr>\n",
       "      <th>40</th>\n",
       "      <td>0.4</td>\n",
       "      <td>486</td>\n",
       "      <td>630</td>\n",
       "      <td>0</td>\n",
       "      <td>744</td>\n",
       "      <td>1.000000</td>\n",
       "      <td>0.458515</td>\n",
       "    </tr>\n",
       "    <tr>\n",
       "      <th>50</th>\n",
       "      <td>0.5</td>\n",
       "      <td>486</td>\n",
       "      <td>444</td>\n",
       "      <td>0</td>\n",
       "      <td>930</td>\n",
       "      <td>1.000000</td>\n",
       "      <td>0.323144</td>\n",
       "    </tr>\n",
       "    <tr>\n",
       "      <th>60</th>\n",
       "      <td>0.6</td>\n",
       "      <td>486</td>\n",
       "      <td>258</td>\n",
       "      <td>0</td>\n",
       "      <td>1116</td>\n",
       "      <td>1.000000</td>\n",
       "      <td>0.187773</td>\n",
       "    </tr>\n",
       "    <tr>\n",
       "      <th>70</th>\n",
       "      <td>0.7</td>\n",
       "      <td>486</td>\n",
       "      <td>72</td>\n",
       "      <td>0</td>\n",
       "      <td>1302</td>\n",
       "      <td>1.000000</td>\n",
       "      <td>0.052402</td>\n",
       "    </tr>\n",
       "    <tr>\n",
       "      <th>80</th>\n",
       "      <td>0.8</td>\n",
       "      <td>372</td>\n",
       "      <td>0</td>\n",
       "      <td>114</td>\n",
       "      <td>1374</td>\n",
       "      <td>0.765432</td>\n",
       "      <td>0.000000</td>\n",
       "    </tr>\n",
       "    <tr>\n",
       "      <th>90</th>\n",
       "      <td>0.9</td>\n",
       "      <td>186</td>\n",
       "      <td>0</td>\n",
       "      <td>300</td>\n",
       "      <td>1374</td>\n",
       "      <td>0.382716</td>\n",
       "      <td>0.000000</td>\n",
       "    </tr>\n",
       "    <tr>\n",
       "      <th>100</th>\n",
       "      <td>1.0</td>\n",
       "      <td>1</td>\n",
       "      <td>0</td>\n",
       "      <td>485</td>\n",
       "      <td>1374</td>\n",
       "      <td>0.002058</td>\n",
       "      <td>0.000000</td>\n",
       "    </tr>\n",
       "  </tbody>\n",
       "</table>\n",
       "</div>"
      ],
      "text/plain": [
       "     threshold   TP    FP   FN    TN       TPR       FPR\n",
       "0          0.0  486  1374    0     0  1.000000  1.000000\n",
       "10         0.1  486  1188    0   186  1.000000  0.864629\n",
       "20         0.2  486  1002    0   372  1.000000  0.729258\n",
       "30         0.3  486   816    0   558  1.000000  0.593886\n",
       "40         0.4  486   630    0   744  1.000000  0.458515\n",
       "50         0.5  486   444    0   930  1.000000  0.323144\n",
       "60         0.6  486   258    0  1116  1.000000  0.187773\n",
       "70         0.7  486    72    0  1302  1.000000  0.052402\n",
       "80         0.8  372     0  114  1374  0.765432  0.000000\n",
       "90         0.9  186     0  300  1374  0.382716  0.000000\n",
       "100        1.0    1     0  485  1374  0.002058  0.000000"
      ]
     },
     "execution_count": 65,
     "metadata": {},
     "output_type": "execute_result"
    }
   ],
   "source": [
    "# выведем каждую 10-ю строку датафрейма идеальной модели\n",
    "\n",
    "df_ideal[::10]"
   ]
  },
  {
   "cell_type": "code",
   "execution_count": 66,
   "id": "95b5d71a",
   "metadata": {},
   "outputs": [
    {
     "data": {
      "image/png": "[encoded data removed]",
      "text/plain": [
       "<Figure size 640x480 with 1 Axes>"
      ]
     },
     "metadata": {},
     "output_type": "display_data"
    }
   ],
   "source": [
    "# график идеальной модели\n",
    "\n",
    "plt.plot(df_ideal.threshold, df_ideal.TPR, label='TPR')\n",
    "plt.plot(df_ideal.threshold, df_ideal.FPR, label='FPR')\n",
    "plt.legend()\n",
    "plt.xlabel('Порог (threshold)')\n",
    "plt.show()"
   ]
  },
  {
   "cell_type": "markdown",
   "id": "d063d021",
   "metadata": {},
   "source": [
    "Построим, наконец, кривую ROC."
   ]
  },
  {
   "cell_type": "code",
   "execution_count": 67,
   "id": "2d9e78cc",
   "metadata": {},
   "outputs": [
    {
     "data": {
      "image/png": "[encoded data removed]",
      "text/plain": [
       "<Figure size 700x700 with 1 Axes>"
      ]
     },
     "metadata": {},
     "output_type": "display_data"
    }
   ],
   "source": [
    "plt.figure(figsize=(7, 7))\n",
    "plt.plot(df_scores.FPR, df_scores.TPR, label='LogReg')\n",
    "plt.plot(df_rand.FPR, df_rand.TPR, label='Random')\n",
    "plt.plot(df_ideal.FPR, df_ideal.TPR, label='Ideal')\n",
    "plt.legend()\n",
    "plt.xlabel('Доля ложноположительных (FPR)')\n",
    "plt.ylabel('Доля истинно положительных (TPR)')\n",
    "plt.show()"
   ]
  },
  {
   "cell_type": "markdown",
   "id": "fd95db17",
   "metadata": {},
   "source": [
    "По традиции сравним с расчетом ROC с помощью sklearn."
   ]
  },
  {
   "cell_type": "code",
   "execution_count": 68,
   "id": "ee9df086",
   "metadata": {},
   "outputs": [],
   "source": [
    "# импорт roc_curve\n",
    "\n",
    "from sklearn.metrics import roc_curve"
   ]
  },
  {
   "cell_type": "code",
   "execution_count": 69,
   "id": "9935a148",
   "metadata": {},
   "outputs": [],
   "source": [
    "FPR, TPR, thresholds = roc_curve(y_val, y_pred_val)"
   ]
  },
  {
   "cell_type": "code",
   "execution_count": 70,
   "id": "d846be21",
   "metadata": {},
   "outputs": [
    {
     "data": {
      "text/plain": [
       "<matplotlib.legend.Legend at 0x18a7d4b6e80>"
      ]
     },
     "execution_count": 70,
     "metadata": {},
     "output_type": "execute_result"
    },
    {
     "data": {
      "image/png": "[encoded data removed]",
      "text/plain": [
       "<Figure size 640x480 with 1 Axes>"
      ]
     },
     "metadata": {},
     "output_type": "display_data"
    }
   ],
   "source": [
    "# построение графика TPR и FPR\n",
    "\n",
    "plt.plot(thresholds, TPR, label='TPR')\n",
    "plt.plot(thresholds, FPR, label='FPR')\n",
    "plt.xlabel('Порог (threshold)')\n",
    "\n",
    "plt.legend()"
   ]
  },
  {
   "cell_type": "code",
   "execution_count": 71,
   "id": "71e4bfd6",
   "metadata": {},
   "outputs": [
    {
     "data": {
      "image/png": "[encoded data removed]",
      "text/plain": [
       "<Figure size 500x500 with 1 Axes>"
      ]
     },
     "metadata": {},
     "output_type": "display_data"
    }
   ],
   "source": [
    "# слегка упрощенный график\n",
    "\n",
    "plt.figure(figsize=(5, 5))\n",
    "plt.plot(FPR, TPR, label='LogReg')\n",
    "plt.plot([0, 1], [0, 1],  label='Random')\n",
    "plt.xlabel('Доля ложноположительных (FPR)')\n",
    "plt.ylabel('Доля истинно положительных (TPR)')\n",
    "plt.legend()\n",
    "plt.show()"
   ]
  },
  {
   "cell_type": "markdown",
   "id": "c0b862a5",
   "metadata": {},
   "source": [
    "Рассчитаем метрику AUC (площадь под кривой ROC)."
   ]
  },
  {
   "cell_type": "code",
   "execution_count": 72,
   "id": "b67383b0",
   "metadata": {},
   "outputs": [],
   "source": [
    "# импорт auc из sklearn\n",
    "\n",
    "from sklearn.metrics import auc"
   ]
  },
  {
   "cell_type": "code",
   "execution_count": 73,
   "id": "80b733c7",
   "metadata": {},
   "outputs": [
    {
     "data": {
      "text/plain": [
       "0.836"
      ]
     },
     "execution_count": 73,
     "metadata": {},
     "output_type": "execute_result"
    }
   ],
   "source": [
    "# AUC для модели логистической регрессии с округлением до 3 знака после запятой\n",
    "\n",
    "auc(df_scores.FPR, df_scores.TPR).round(3)"
   ]
  },
  {
   "cell_type": "code",
   "execution_count": 74,
   "id": "cb1cf459",
   "metadata": {},
   "outputs": [
    {
     "data": {
      "text/plain": [
       "1.0"
      ]
     },
     "execution_count": 74,
     "metadata": {},
     "output_type": "execute_result"
    }
   ],
   "source": [
    "# AUC для идеальной модели с округлением до 3 знака после запятой\n",
    "\n",
    "auc(df_ideal.FPR, df_ideal.TPR).round(3)"
   ]
  },
  {
   "cell_type": "code",
   "execution_count": 75,
   "id": "ebb7a539",
   "metadata": {},
   "outputs": [
    {
     "data": {
      "text/plain": [
       "0.493"
      ]
     },
     "execution_count": 75,
     "metadata": {},
     "output_type": "execute_result"
    }
   ],
   "source": [
    "# AUC для случайной модели с округлением до 3 знака после запятой\n",
    "\n",
    "auc(df_rand.FPR, df_rand.TPR).round(3)"
   ]
  },
  {
   "cell_type": "markdown",
   "id": "ec723b33",
   "metadata": {},
   "source": [
    "### 6.5. Проверка модели на тестовом наборе данных"
   ]
  },
  {
   "cell_type": "code",
   "execution_count": 76,
   "id": "bfd6619d",
   "metadata": {},
   "outputs": [],
   "source": [
    "# векторизация признаков в датафрейме df_test\n",
    "\n",
    "test_dict = df_test[categorical + numerical].to_dict(orient='records')\n",
    "X_test = dv.transform(test_dict)"
   ]
  },
  {
   "cell_type": "code",
   "execution_count": 77,
   "id": "5e7abb11",
   "metadata": {},
   "outputs": [],
   "source": [
    "# получение предсказания вероятностей для тестового набора данных\n",
    "\n",
    "y_pred_test = model.predict_proba(X_test)[:, 1]     # так как (вероятность оттока + вероятность отсутствия оттока) = 1, то достаточно одного столбца "
   ]
  },
  {
   "cell_type": "code",
   "execution_count": 78,
   "id": "474ee009",
   "metadata": {},
   "outputs": [
    {
     "name": "stdout",
     "output_type": "stream",
     "text": [
      "0.0   0.247\n",
      "0.1   0.610\n",
      "0.2   0.708\n",
      "0.3   0.764\n",
      "0.4   0.787\n",
      "0.5   0.807\n",
      "0.6   0.817\n",
      "0.7   0.794\n",
      "0.8   0.762\n",
      "0.9   0.753\n",
      "1.0   0.753\n"
     ]
    }
   ],
   "source": [
    "# вычислим accuracy_score для каждого порогового значения\n",
    "\n",
    "thresholds = np.linspace(0, 1, 11)\n",
    "accuracies = []                            # соберем все значения accuracy_score для построения графика\n",
    "for t in thresholds:\n",
    "    churn = y_pred_test >= t\n",
    "    acc = accuracy_score(y_test, churn)\n",
    "    accuracies.append(acc)\n",
    "    print('%0.1f   %0.3f' % (t, acc))"
   ]
  },
  {
   "cell_type": "markdown",
   "id": "4dbdc918",
   "metadata": {},
   "source": [
    "Для тестового набора данных модель показывает лучшую достоверность (81.7 %) при пороге 0.6."
   ]
  },
  {
   "cell_type": "code",
   "execution_count": 79,
   "id": "463129a3",
   "metadata": {},
   "outputs": [
    {
     "data": {
      "text/plain": [
       "(array([[993,  68],\n",
       "        [190, 158]]),\n",
       " array([[0.705, 0.048],\n",
       "        [0.135, 0.112]]))"
      ]
     },
     "execution_count": 79,
     "metadata": {},
     "output_type": "execute_result"
    }
   ],
   "source": [
    "# вычисление матрицы ошибок\n",
    "\n",
    "conf_mtrx(y_test, y_pred_test, 0.6)"
   ]
  },
  {
   "cell_type": "markdown",
   "id": "437830a8",
   "metadata": {},
   "source": [
    "Модель логистической регрессии на тестовом наборе данных довольно хорошо прогнозирует отсутствие оттока (70.5%).  Ложноположительных прогнозов - 4.8%, ложноотрицательных - 13.5% (суммарно 18.3%), истинноположительных (есть отток) - 11.2%."
   ]
  },
  {
   "cell_type": "code",
   "execution_count": 80,
   "id": "e13edbca",
   "metadata": {},
   "outputs": [
    {
     "data": {
      "text/plain": [
       "(0.699, 0.454)"
      ]
     },
     "execution_count": 80,
     "metadata": {},
     "output_type": "execute_result"
    }
   ],
   "source": [
    "# точность и отклик\n",
    "\n",
    "precision_recall(y_test, y_pred_test, 0.6)"
   ]
  },
  {
   "cell_type": "code",
   "execution_count": 81,
   "id": "3ceec079",
   "metadata": {},
   "outputs": [],
   "source": [
    "# рассчитаем TPR и FPR\n",
    "\n",
    "df_scores_test = calculate_tpr_fpr(y_test, y_pred_test)"
   ]
  },
  {
   "cell_type": "code",
   "execution_count": 82,
   "id": "f903b646",
   "metadata": {},
   "outputs": [
    {
     "data": {
      "text/html": [
       "<div>\n",
       "<style scoped>\n",
       "    .dataframe tbody tr th:only-of-type {\n",
       "        vertical-align: middle;\n",
       "    }\n",
       "\n",
       "    .dataframe tbody tr th {\n",
       "        vertical-align: top;\n",
       "    }\n",
       "\n",
       "    .dataframe thead th {\n",
       "        text-align: right;\n",
       "    }\n",
       "</style>\n",
       "<table border=\"1\" class=\"dataframe\">\n",
       "  <thead>\n",
       "    <tr style=\"text-align: right;\">\n",
       "      <th></th>\n",
       "      <th>threshold</th>\n",
       "      <th>TP</th>\n",
       "      <th>FP</th>\n",
       "      <th>FN</th>\n",
       "      <th>TN</th>\n",
       "      <th>TPR</th>\n",
       "      <th>FPR</th>\n",
       "    </tr>\n",
       "  </thead>\n",
       "  <tbody>\n",
       "    <tr>\n",
       "      <th>0</th>\n",
       "      <td>0.0</td>\n",
       "      <td>348</td>\n",
       "      <td>1061</td>\n",
       "      <td>0</td>\n",
       "      <td>0</td>\n",
       "      <td>1.000000</td>\n",
       "      <td>1.000000</td>\n",
       "    </tr>\n",
       "    <tr>\n",
       "      <th>10</th>\n",
       "      <td>0.1</td>\n",
       "      <td>337</td>\n",
       "      <td>538</td>\n",
       "      <td>11</td>\n",
       "      <td>523</td>\n",
       "      <td>0.968391</td>\n",
       "      <td>0.507069</td>\n",
       "    </tr>\n",
       "    <tr>\n",
       "      <th>20</th>\n",
       "      <td>0.2</td>\n",
       "      <td>315</td>\n",
       "      <td>379</td>\n",
       "      <td>33</td>\n",
       "      <td>682</td>\n",
       "      <td>0.905172</td>\n",
       "      <td>0.357210</td>\n",
       "    </tr>\n",
       "    <tr>\n",
       "      <th>30</th>\n",
       "      <td>0.3</td>\n",
       "      <td>279</td>\n",
       "      <td>264</td>\n",
       "      <td>69</td>\n",
       "      <td>797</td>\n",
       "      <td>0.801724</td>\n",
       "      <td>0.248822</td>\n",
       "    </tr>\n",
       "    <tr>\n",
       "      <th>40</th>\n",
       "      <td>0.4</td>\n",
       "      <td>254</td>\n",
       "      <td>206</td>\n",
       "      <td>94</td>\n",
       "      <td>855</td>\n",
       "      <td>0.729885</td>\n",
       "      <td>0.194156</td>\n",
       "    </tr>\n",
       "    <tr>\n",
       "      <th>50</th>\n",
       "      <td>0.5</td>\n",
       "      <td>206</td>\n",
       "      <td>130</td>\n",
       "      <td>142</td>\n",
       "      <td>931</td>\n",
       "      <td>0.591954</td>\n",
       "      <td>0.122526</td>\n",
       "    </tr>\n",
       "    <tr>\n",
       "      <th>60</th>\n",
       "      <td>0.6</td>\n",
       "      <td>158</td>\n",
       "      <td>68</td>\n",
       "      <td>190</td>\n",
       "      <td>993</td>\n",
       "      <td>0.454023</td>\n",
       "      <td>0.064090</td>\n",
       "    </tr>\n",
       "    <tr>\n",
       "      <th>70</th>\n",
       "      <td>0.7</td>\n",
       "      <td>83</td>\n",
       "      <td>25</td>\n",
       "      <td>265</td>\n",
       "      <td>1036</td>\n",
       "      <td>0.238506</td>\n",
       "      <td>0.023563</td>\n",
       "    </tr>\n",
       "    <tr>\n",
       "      <th>80</th>\n",
       "      <td>0.8</td>\n",
       "      <td>12</td>\n",
       "      <td>0</td>\n",
       "      <td>336</td>\n",
       "      <td>1061</td>\n",
       "      <td>0.034483</td>\n",
       "      <td>0.000000</td>\n",
       "    </tr>\n",
       "    <tr>\n",
       "      <th>90</th>\n",
       "      <td>0.9</td>\n",
       "      <td>0</td>\n",
       "      <td>0</td>\n",
       "      <td>348</td>\n",
       "      <td>1061</td>\n",
       "      <td>0.000000</td>\n",
       "      <td>0.000000</td>\n",
       "    </tr>\n",
       "    <tr>\n",
       "      <th>100</th>\n",
       "      <td>1.0</td>\n",
       "      <td>0</td>\n",
       "      <td>0</td>\n",
       "      <td>348</td>\n",
       "      <td>1061</td>\n",
       "      <td>0.000000</td>\n",
       "      <td>0.000000</td>\n",
       "    </tr>\n",
       "  </tbody>\n",
       "</table>\n",
       "</div>"
      ],
      "text/plain": [
       "     threshold   TP    FP   FN    TN       TPR       FPR\n",
       "0          0.0  348  1061    0     0  1.000000  1.000000\n",
       "10         0.1  337   538   11   523  0.968391  0.507069\n",
       "20         0.2  315   379   33   682  0.905172  0.357210\n",
       "30         0.3  279   264   69   797  0.801724  0.248822\n",
       "40         0.4  254   206   94   855  0.729885  0.194156\n",
       "50         0.5  206   130  142   931  0.591954  0.122526\n",
       "60         0.6  158    68  190   993  0.454023  0.064090\n",
       "70         0.7   83    25  265  1036  0.238506  0.023563\n",
       "80         0.8   12     0  336  1061  0.034483  0.000000\n",
       "90         0.9    0     0  348  1061  0.000000  0.000000\n",
       "100        1.0    0     0  348  1061  0.000000  0.000000"
      ]
     },
     "execution_count": 82,
     "metadata": {},
     "output_type": "execute_result"
    }
   ],
   "source": [
    "df_scores_test[::10]"
   ]
  },
  {
   "cell_type": "code",
   "execution_count": 83,
   "id": "8d7d01e9",
   "metadata": {},
   "outputs": [
    {
     "data": {
      "text/plain": [
       "<matplotlib.legend.Legend at 0x18a7d683580>"
      ]
     },
     "execution_count": 83,
     "metadata": {},
     "output_type": "execute_result"
    },
    {
     "data": {
      "image/png": "[encoded data removed]",
      "text/plain": [
       "<Figure size 640x480 with 1 Axes>"
      ]
     },
     "metadata": {},
     "output_type": "display_data"
    }
   ],
   "source": [
    "# построение графика TPR и FPR\n",
    "\n",
    "plt.plot(df_scores_test.threshold, df_scores_test.TPR, label='TPR')\n",
    "plt.plot(df_scores_test.threshold, df_scores_test.FPR, label='FPR')\n",
    "plt.xlabel('Порог (threshold)')\n",
    "plt.legend()"
   ]
  },
  {
   "cell_type": "code",
   "execution_count": 84,
   "id": "cae35d8d",
   "metadata": {},
   "outputs": [
    {
     "data": {
      "image/png": "[encoded data removed]",
      "text/plain": [
       "<Figure size 600x600 with 1 Axes>"
      ]
     },
     "metadata": {},
     "output_type": "display_data"
    }
   ],
   "source": [
    "# кривая ROC для модели логистической регрессии на проверочном (df_val) и тестовом (df_test) наборах данных \n",
    "\n",
    "plt.figure(figsize=(6, 6))\n",
    "plt.plot(df_scores.FPR, df_scores.TPR, label='LogReg_val')\n",
    "plt.plot(df_scores_test.FPR, df_scores_test.TPR, label='LogReg_test')\n",
    "plt.plot([0, 1], [0, 1], label='Random')\n",
    "plt.xlabel('Доля ложноположительных (FPR)')\n",
    "plt.ylabel('Доля истинно положительных (TPR)')\n",
    "plt.legend()\n",
    "plt.show()"
   ]
  },
  {
   "cell_type": "code",
   "execution_count": 85,
   "id": "afe2f01d",
   "metadata": {},
   "outputs": [
    {
     "data": {
      "text/plain": [
       "0.859"
      ]
     },
     "execution_count": 85,
     "metadata": {},
     "output_type": "execute_result"
    }
   ],
   "source": [
    "# AUC \n",
    "\n",
    "auc(df_scores_test.FPR, df_scores_test.TPR).round(3)"
   ]
  },
  {
   "cell_type": "markdown",
   "id": "b8ea0094",
   "metadata": {},
   "source": [
    "## 7. Заключение\n"
   ]
  },
  {
   "cell_type": "markdown",
   "id": "49f4dfc1",
   "metadata": {},
   "source": [
    "Для прогнозирования оттока клиентов телекомуникационной компании проведены:\n",
    "\n",
    "1. Исследовательский анализ данных: выделение целевого параметра, разделение параметров на категориальные и числовые, анализ важности признаков, взаимная информация.  \n",
    "2. Проведена векторизация признаков с помощью DictVectorizer из библиотеки sklearn.  \n",
    "3. Создана и обучена модель логистической регрессии на основе LogisticRegression из библиотеки sklearn.  \n",
    "4. Проведено сравнение модели с базовыми моделями (фиктивной и случайной), а также с идеальной моделью.  \n",
    "5. Проведена оценка модели с помощью метрик: достоверность(accuracy), точность(precision), отклик(recall), ROC и AUC.  \n",
    "6. При проверке модели на проверочном наборе данных (df_val):  \n",
    "    достоверность - 0.802.  \n",
    "    точность - 0.627;  \n",
    "    отклик - 0.595;  \n",
    "    AUC - 0.836.  \n",
    "   При проверке модели на тестовом наборе данных (df_test):  \n",
    "    достоверность - 0.817;  \n",
    "    точность - 0.699;  \n",
    "    отклик - 0.454;  \n",
    "    AUC - 0.859.  \n",
    "7. Кривая ROC модели показывает достаточно хороший (но не выдающийся) результат."
   ]
  }
 ],
 "metadata": {
  "kernelspec": {
   "display_name": "Python 3 (ipykernel)",
   "language": "python",
   "name": "python3"
  },
  "language_info": {
   "codemirror_mode": {
    "name": "ipython",
    "version": 3
   },
   "file_extension": ".py",
   "mimetype": "text/x-python",
   "name": "python",
   "nbconvert_exporter": "python",
   "pygments_lexer": "ipython3",
   "version": "3.9.13"
  }
 },
 "nbformat": 4,
 "nbformat_minor": 5
}
